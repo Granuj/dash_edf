{
 "cells": [
  {
   "cell_type": "markdown",
   "source": [
    "    Conso explo données"
   ],
   "metadata": {
    "collapsed": false
   },
   "id": "64a90892af0d8fb0"
  },
  {
   "cell_type": "code",
   "execution_count": 1,
   "id": "initial_id",
   "metadata": {
    "collapsed": true,
    "ExecuteTime": {
     "end_time": "2024-02-27T12:23:07.817331Z",
     "start_time": "2024-02-27T12:23:04.083927Z"
    }
   },
   "outputs": [],
   "source": [
    "import pandas as pd\n",
    "import numpy as np\n",
    "import matplotlib.pyplot as plt\n",
    "data = pd.read_csv('conso.csv',sep=';')"
   ]
  },
  {
   "cell_type": "markdown",
   "source": [
    "    Explo"
   ],
   "metadata": {
    "collapsed": false
   },
   "id": "eed4f33d3c301cf"
  },
  {
   "cell_type": "code",
   "outputs": [
    {
     "data": {
      "text/plain": "(18128, 15)"
     },
     "metadata": {},
     "output_type": "display_data"
    },
    {
     "data": {
      "text/plain": "  operateur  annee      filiere code_categorie_consommation  \\\n0    Enedis   2020  Electricité                         ENT   \n1    Enedis   2020  Electricité                         ENT   \n2    Enedis   2020  Electricité                         ENT   \n3    Enedis   2020  Electricité                         ENT   \n4    Enedis   2020  Electricité                         ENT   \n\n  libelle_categorie_consommation code_grand_secteur libelle_grand_secteur  \\\n0                    Entreprises                  T             Tertiaire   \n1                    Entreprises                  T             Tertiaire   \n2                    Entreprises                  T             Tertiaire   \n3                    Entreprises                  T             Tertiaire   \n4                    Entreprises                  T             Tertiaire   \n\n   code_naf                      libelle_secteur_naf2          conso  pdl  \\\n0      72.0      Recherche-développement scientifique  135719.277100  131   \n1      75.0                    Activités vétérinaires    1204.307968   23   \n2      77.0    Activités de location et location-bail   17371.363230  231   \n3      88.0           Action sociale sans hébergement  106935.346500  797   \n4      94.0  Activités des organisations associatives   62186.181980  582   \n\n   indqual  nombre_mailles_secretisees code_region        libelle_region  \n0    0.995                           0          84  Auvergne-Rhône-Alpes  \n1    0.885                           0          84  Auvergne-Rhône-Alpes  \n2    0.915                           0          84  Auvergne-Rhône-Alpes  \n3    0.942                           0          84  Auvergne-Rhône-Alpes  \n4    0.926                           0          84  Auvergne-Rhône-Alpes  ",
      "text/html": "<div>\n<style scoped>\n    .dataframe tbody tr th:only-of-type {\n        vertical-align: middle;\n    }\n\n    .dataframe tbody tr th {\n        vertical-align: top;\n    }\n\n    .dataframe thead th {\n        text-align: right;\n    }\n</style>\n<table border=\"1\" class=\"dataframe\">\n  <thead>\n    <tr style=\"text-align: right;\">\n      <th></th>\n      <th>operateur</th>\n      <th>annee</th>\n      <th>filiere</th>\n      <th>code_categorie_consommation</th>\n      <th>libelle_categorie_consommation</th>\n      <th>code_grand_secteur</th>\n      <th>libelle_grand_secteur</th>\n      <th>code_naf</th>\n      <th>libelle_secteur_naf2</th>\n      <th>conso</th>\n      <th>pdl</th>\n      <th>indqual</th>\n      <th>nombre_mailles_secretisees</th>\n      <th>code_region</th>\n      <th>libelle_region</th>\n    </tr>\n  </thead>\n  <tbody>\n    <tr>\n      <th>0</th>\n      <td>Enedis</td>\n      <td>2020</td>\n      <td>Electricité</td>\n      <td>ENT</td>\n      <td>Entreprises</td>\n      <td>T</td>\n      <td>Tertiaire</td>\n      <td>72.0</td>\n      <td>Recherche-développement scientifique</td>\n      <td>135719.277100</td>\n      <td>131</td>\n      <td>0.995</td>\n      <td>0</td>\n      <td>84</td>\n      <td>Auvergne-Rhône-Alpes</td>\n    </tr>\n    <tr>\n      <th>1</th>\n      <td>Enedis</td>\n      <td>2020</td>\n      <td>Electricité</td>\n      <td>ENT</td>\n      <td>Entreprises</td>\n      <td>T</td>\n      <td>Tertiaire</td>\n      <td>75.0</td>\n      <td>Activités vétérinaires</td>\n      <td>1204.307968</td>\n      <td>23</td>\n      <td>0.885</td>\n      <td>0</td>\n      <td>84</td>\n      <td>Auvergne-Rhône-Alpes</td>\n    </tr>\n    <tr>\n      <th>2</th>\n      <td>Enedis</td>\n      <td>2020</td>\n      <td>Electricité</td>\n      <td>ENT</td>\n      <td>Entreprises</td>\n      <td>T</td>\n      <td>Tertiaire</td>\n      <td>77.0</td>\n      <td>Activités de location et location-bail</td>\n      <td>17371.363230</td>\n      <td>231</td>\n      <td>0.915</td>\n      <td>0</td>\n      <td>84</td>\n      <td>Auvergne-Rhône-Alpes</td>\n    </tr>\n    <tr>\n      <th>3</th>\n      <td>Enedis</td>\n      <td>2020</td>\n      <td>Electricité</td>\n      <td>ENT</td>\n      <td>Entreprises</td>\n      <td>T</td>\n      <td>Tertiaire</td>\n      <td>88.0</td>\n      <td>Action sociale sans hébergement</td>\n      <td>106935.346500</td>\n      <td>797</td>\n      <td>0.942</td>\n      <td>0</td>\n      <td>84</td>\n      <td>Auvergne-Rhône-Alpes</td>\n    </tr>\n    <tr>\n      <th>4</th>\n      <td>Enedis</td>\n      <td>2020</td>\n      <td>Electricité</td>\n      <td>ENT</td>\n      <td>Entreprises</td>\n      <td>T</td>\n      <td>Tertiaire</td>\n      <td>94.0</td>\n      <td>Activités des organisations associatives</td>\n      <td>62186.181980</td>\n      <td>582</td>\n      <td>0.926</td>\n      <td>0</td>\n      <td>84</td>\n      <td>Auvergne-Rhône-Alpes</td>\n    </tr>\n  </tbody>\n</table>\n</div>"
     },
     "metadata": {},
     "output_type": "display_data"
    }
   ],
   "source": [
    "display(data.shape)\n",
    "display(data.head(5))"
   ],
   "metadata": {
    "collapsed": false,
    "ExecuteTime": {
     "end_time": "2024-02-26T14:42:36.106092700Z",
     "start_time": "2024-02-26T14:42:36.065708800Z"
    }
   },
   "id": "46be593d973af811",
   "execution_count": 10
  },
  {
   "cell_type": "code",
   "outputs": [
    {
     "data": {
      "text/plain": "<bound method NDFrame.describe of       operateur  annee      filiere code_categorie_consommation  \\\n0        Enedis   2020  Electricité                         ENT   \n1        Enedis   2020  Electricité                         ENT   \n2        Enedis   2020  Electricité                         ENT   \n3        Enedis   2020  Electricité                         ENT   \n4        Enedis   2020  Electricité                         ENT   \n...         ...    ...          ...                         ...   \n18123      GRDF   2020          Gaz                         ENT   \n18124      GRDF   2020          Gaz                         ENT   \n18125      GRDF   2020          Gaz                         ENT   \n18126      GRDF   2020          Gaz                         ENT   \n18127      GRDF   2020          Gaz                         ENT   \n\n      libelle_categorie_consommation code_grand_secteur libelle_grand_secteur  \\\n0                        Entreprises                  T             Tertiaire   \n1                        Entreprises                  T             Tertiaire   \n2                        Entreprises                  T             Tertiaire   \n3                        Entreprises                  T             Tertiaire   \n4                        Entreprises                  T             Tertiaire   \n...                              ...                ...                   ...   \n18123                    Entreprises                  T             Tertiaire   \n18124                    Entreprises                  T             Tertiaire   \n18125                    Entreprises                  T             Tertiaire   \n18126                    Entreprises                  T             Tertiaire   \n18127                    Entreprises                  T             Tertiaire   \n\n       code_naf                               libelle_secteur_naf2  \\\n0          72.0               Recherche-développement scientifique   \n1          75.0                             Activités vétérinaires   \n2          77.0             Activités de location et location-bail   \n3          88.0                    Action sociale sans hébergement   \n4          94.0           Activités des organisations associatives   \n...         ...                                                ...   \n18123      36.0          Captage, traitement et distribution d'eau   \n18124      46.0  Commerce de gros, à l'exception des automobile...   \n18125      47.0  Commerce de détail, à l'exception des automobi...   \n18126      56.0                                       Restauration   \n18127      61.0                                 Télécommunications   \n\n               conso  pdl  indqual  nombre_mailles_secretisees code_region  \\\n0      135719.277100  131    0.995                           0          84   \n1        1204.307968   23    0.885                           0          84   \n2       17371.363230  231    0.915                           0          84   \n3      106935.346500  797    0.942                           0          84   \n4       62186.181980  582    0.926                           0          84   \n...              ...  ...      ...                         ...         ...   \n18123    7149.515830    4    0.000                           0          44   \n18124  239130.550800  147    0.000                           0          44   \n18125  127160.172200  210    0.000                           0          44   \n18126   10492.374830   54    0.000                           0          44   \n18127    5224.098290   14    0.000                           0          44   \n\n             libelle_region  \n0      Auvergne-Rhône-Alpes  \n1      Auvergne-Rhône-Alpes  \n2      Auvergne-Rhône-Alpes  \n3      Auvergne-Rhône-Alpes  \n4      Auvergne-Rhône-Alpes  \n...                     ...  \n18123             Grand Est  \n18124             Grand Est  \n18125             Grand Est  \n18126             Grand Est  \n18127             Grand Est  \n\n[18128 rows x 15 columns]>"
     },
     "metadata": {},
     "output_type": "display_data"
    }
   ],
   "source": [
    "display(data.describe)"
   ],
   "metadata": {
    "collapsed": false,
    "ExecuteTime": {
     "end_time": "2024-02-26T14:42:43.503941100Z",
     "start_time": "2024-02-26T14:42:43.470032800Z"
    }
   },
   "id": "757b42bdacc720b9",
   "execution_count": 12
  },
  {
   "cell_type": "code",
   "outputs": [
    {
     "data": {
      "text/plain": "operateur                            0\nannee                                0\nfiliere                              0\ncode_categorie_consommation          0\nlibelle_categorie_consommation       0\ncode_grand_secteur                   0\nlibelle_grand_secteur                0\ncode_naf                          6985\nlibelle_secteur_naf2                 0\nconso                                0\npdl                                  0\nindqual                              0\nnombre_mailles_secretisees           0\ncode_region                          0\nlibelle_region                       0\ndtype: int64"
     },
     "metadata": {},
     "output_type": "display_data"
    }
   ],
   "source": [
    "display(data.isnull().sum())"
   ],
   "metadata": {
    "collapsed": false,
    "ExecuteTime": {
     "end_time": "2024-02-26T14:42:48.958986700Z",
     "start_time": "2024-02-26T14:42:48.941185Z"
    }
   },
   "id": "302b23fa5ec0b893",
   "execution_count": 13
  },
  {
   "cell_type": "code",
   "outputs": [
    {
     "data": {
      "text/plain": "Index(['operateur', 'annee', 'filiere', 'code_categorie_consommation',\n       'libelle_categorie_consommation', 'code_grand_secteur',\n       'libelle_grand_secteur', 'code_naf', 'libelle_secteur_naf2', 'conso',\n       'pdl', 'indqual', 'nombre_mailles_secretisees', 'code_region',\n       'libelle_region'],\n      dtype='object')"
     },
     "execution_count": 14,
     "metadata": {},
     "output_type": "execute_result"
    }
   ],
   "source": [
    "data.columns"
   ],
   "metadata": {
    "collapsed": false,
    "ExecuteTime": {
     "end_time": "2024-02-26T14:44:41.347053200Z",
     "start_time": "2024-02-26T14:44:41.327537800Z"
    }
   },
   "id": "39e0587d958af39c",
   "execution_count": 14
  },
  {
   "cell_type": "code",
   "outputs": [
    {
     "data": {
      "text/plain": "filiere\nElectricité    13279\nGaz             4849\nName: count, dtype: int64"
     },
     "execution_count": 62,
     "metadata": {},
     "output_type": "execute_result"
    }
   ],
   "source": [
    "data.filiere.value_counts()"
   ],
   "metadata": {
    "collapsed": false,
    "ExecuteTime": {
     "end_time": "2024-02-26T15:04:30.753834700Z",
     "start_time": "2024-02-26T15:04:30.724912100Z"
    }
   },
   "id": "16164e756c748860",
   "execution_count": 62
  },
  {
   "cell_type": "code",
   "outputs": [
    {
     "data": {
      "text/plain": "2"
     },
     "execution_count": 99,
     "metadata": {},
     "output_type": "execute_result"
    }
   ],
   "source": [
    "data.filiere.nunique()"
   ],
   "metadata": {
    "collapsed": false,
    "ExecuteTime": {
     "end_time": "2024-02-26T15:08:17.198476300Z",
     "start_time": "2024-02-26T15:08:17.189503500Z"
    }
   },
   "id": "3e4771ed9cc0aa70",
   "execution_count": 99
  },
  {
   "cell_type": "code",
   "outputs": [],
   "source": [
    "df = data[[\"operateur\",\"annee\",\"filiere\",\"libelle_categorie_consommation\",\"libelle_grand_secteur\",\"libelle_secteur_naf2\",\"conso\",\"pdl\",\"indqual\",\"nombre_mailles_secretisees\",\"libelle_region\"]]"
   ],
   "metadata": {
    "collapsed": false,
    "ExecuteTime": {
     "end_time": "2024-02-26T15:19:24.856649Z",
     "start_time": "2024-02-26T15:19:24.793816500Z"
    }
   },
   "id": "4cc21981447ea311",
   "execution_count": 147
  },
  {
   "cell_type": "code",
   "outputs": [
    {
     "name": "stderr",
     "output_type": "stream",
     "text": [
      "C:\\Users\\chris\\AppData\\Local\\Temp\\ipykernel_12644\\3305842535.py:2: UserWarning: Boolean Series key will be reindexed to match DataFrame index.\n",
      "  df2 = df2[df.filiere == \"Electricité\"]\n"
     ]
    }
   ],
   "source": [
    "df2 = df[df.annee == 2021]\n",
    "df2 = df2[df.filiere == \"Electricité\"]\n",
    "df2 = df2.drop(columns=[\"filiere\",\"annee\"])"
   ],
   "metadata": {
    "collapsed": false,
    "ExecuteTime": {
     "end_time": "2024-02-26T15:19:25.455688Z",
     "start_time": "2024-02-26T15:19:25.438224700Z"
    }
   },
   "id": "5d77445540d7a6be",
   "execution_count": 148
  },
  {
   "cell_type": "code",
   "outputs": [
    {
     "data": {
      "text/plain": "                                              operateur  \\\n0         Régie d'électricité de Montvalezan-la-Rosière   \n1                       Régie de Saint Paul Cap de Joux   \n2                       Régie de Saint Paul Cap de Joux   \n3     Régie du syndicat intercommunal d'électricité ...   \n4     Régie du syndicat intercommunal d'électricité ...   \n...                                                 ...   \n3676                                             Enedis   \n3677                                             Enedis   \n3678                                             Enedis   \n3679                                             Enedis   \n3680                                             Enedis   \n\n     libelle_categorie_consommation libelle_grand_secteur  \\\n0              Petits professionels             Tertiaire   \n1              Petits professionels             Industrie   \n2                       Résidentiel           Résidentiel   \n3                       Entreprises             Industrie   \n4                       Entreprises             Tertiaire   \n...                             ...                   ...   \n3676                    Entreprises           Agriculture   \n3677                    Entreprises             Industrie   \n3678                    Entreprises             Industrie   \n3679                    Entreprises             Industrie   \n3680                    Entreprises             Industrie   \n\n                                   libelle_secteur_naf2         conso   pdl  \\\n0                                                     0       0.00000     0   \n1                                                     0      71.00000     1   \n2                                                     0    1580.00000   317   \n3                                                     0     191.21500     1   \n4                                           Hébergement    5710.84400    45   \n...                                                 ...           ...   ...   \n3676                                                  0  409218.29420  3249   \n3677                            Fabrication de boissons   71571.81108    62   \n3678               Industrie du cuir et de la chaussure   21747.91298    66   \n3679  Fabrication de produits en caoutchouc et en pl...  486550.19540   281   \n3680                                        Métallurgie   95623.27677    51   \n\n      indqual  nombre_mailles_secretisees        libelle_region  \n0       0.000                           1  Auvergne-Rhône-Alpes  \n1       0.500                           0             Occitanie  \n2       0.500                           0             Occitanie  \n3       1.000                           0  Auvergne-Rhône-Alpes  \n4       0.908                           0  Auvergne-Rhône-Alpes  \n...       ...                         ...                   ...  \n3676    0.972                           0      Pays de la Loire  \n3677    0.998                           0      Pays de la Loire  \n3678    0.990                           0      Pays de la Loire  \n3679    0.999                           0      Pays de la Loire  \n3680    0.999                           0      Pays de la Loire  \n\n[3681 rows x 9 columns]",
      "text/html": "<div>\n<style scoped>\n    .dataframe tbody tr th:only-of-type {\n        vertical-align: middle;\n    }\n\n    .dataframe tbody tr th {\n        vertical-align: top;\n    }\n\n    .dataframe thead th {\n        text-align: right;\n    }\n</style>\n<table border=\"1\" class=\"dataframe\">\n  <thead>\n    <tr style=\"text-align: right;\">\n      <th></th>\n      <th>operateur</th>\n      <th>libelle_categorie_consommation</th>\n      <th>libelle_grand_secteur</th>\n      <th>libelle_secteur_naf2</th>\n      <th>conso</th>\n      <th>pdl</th>\n      <th>indqual</th>\n      <th>nombre_mailles_secretisees</th>\n      <th>libelle_region</th>\n    </tr>\n  </thead>\n  <tbody>\n    <tr>\n      <th>0</th>\n      <td>Régie d'électricité de Montvalezan-la-Rosière</td>\n      <td>Petits professionels</td>\n      <td>Tertiaire</td>\n      <td>0</td>\n      <td>0.00000</td>\n      <td>0</td>\n      <td>0.000</td>\n      <td>1</td>\n      <td>Auvergne-Rhône-Alpes</td>\n    </tr>\n    <tr>\n      <th>1</th>\n      <td>Régie de Saint Paul Cap de Joux</td>\n      <td>Petits professionels</td>\n      <td>Industrie</td>\n      <td>0</td>\n      <td>71.00000</td>\n      <td>1</td>\n      <td>0.500</td>\n      <td>0</td>\n      <td>Occitanie</td>\n    </tr>\n    <tr>\n      <th>2</th>\n      <td>Régie de Saint Paul Cap de Joux</td>\n      <td>Résidentiel</td>\n      <td>Résidentiel</td>\n      <td>0</td>\n      <td>1580.00000</td>\n      <td>317</td>\n      <td>0.500</td>\n      <td>0</td>\n      <td>Occitanie</td>\n    </tr>\n    <tr>\n      <th>3</th>\n      <td>Régie du syndicat intercommunal d'électricité ...</td>\n      <td>Entreprises</td>\n      <td>Industrie</td>\n      <td>0</td>\n      <td>191.21500</td>\n      <td>1</td>\n      <td>1.000</td>\n      <td>0</td>\n      <td>Auvergne-Rhône-Alpes</td>\n    </tr>\n    <tr>\n      <th>4</th>\n      <td>Régie du syndicat intercommunal d'électricité ...</td>\n      <td>Entreprises</td>\n      <td>Tertiaire</td>\n      <td>Hébergement</td>\n      <td>5710.84400</td>\n      <td>45</td>\n      <td>0.908</td>\n      <td>0</td>\n      <td>Auvergne-Rhône-Alpes</td>\n    </tr>\n    <tr>\n      <th>...</th>\n      <td>...</td>\n      <td>...</td>\n      <td>...</td>\n      <td>...</td>\n      <td>...</td>\n      <td>...</td>\n      <td>...</td>\n      <td>...</td>\n      <td>...</td>\n    </tr>\n    <tr>\n      <th>3676</th>\n      <td>Enedis</td>\n      <td>Entreprises</td>\n      <td>Agriculture</td>\n      <td>0</td>\n      <td>409218.29420</td>\n      <td>3249</td>\n      <td>0.972</td>\n      <td>0</td>\n      <td>Pays de la Loire</td>\n    </tr>\n    <tr>\n      <th>3677</th>\n      <td>Enedis</td>\n      <td>Entreprises</td>\n      <td>Industrie</td>\n      <td>Fabrication de boissons</td>\n      <td>71571.81108</td>\n      <td>62</td>\n      <td>0.998</td>\n      <td>0</td>\n      <td>Pays de la Loire</td>\n    </tr>\n    <tr>\n      <th>3678</th>\n      <td>Enedis</td>\n      <td>Entreprises</td>\n      <td>Industrie</td>\n      <td>Industrie du cuir et de la chaussure</td>\n      <td>21747.91298</td>\n      <td>66</td>\n      <td>0.990</td>\n      <td>0</td>\n      <td>Pays de la Loire</td>\n    </tr>\n    <tr>\n      <th>3679</th>\n      <td>Enedis</td>\n      <td>Entreprises</td>\n      <td>Industrie</td>\n      <td>Fabrication de produits en caoutchouc et en pl...</td>\n      <td>486550.19540</td>\n      <td>281</td>\n      <td>0.999</td>\n      <td>0</td>\n      <td>Pays de la Loire</td>\n    </tr>\n    <tr>\n      <th>3680</th>\n      <td>Enedis</td>\n      <td>Entreprises</td>\n      <td>Industrie</td>\n      <td>Métallurgie</td>\n      <td>95623.27677</td>\n      <td>51</td>\n      <td>0.999</td>\n      <td>0</td>\n      <td>Pays de la Loire</td>\n    </tr>\n  </tbody>\n</table>\n<p>3681 rows × 9 columns</p>\n</div>"
     },
     "execution_count": 149,
     "metadata": {},
     "output_type": "execute_result"
    }
   ],
   "source": [
    "df2 = df2.reset_index()\n",
    "df2 = df2.drop(columns=[\"index\"])\n",
    "df2"
   ],
   "metadata": {
    "collapsed": false,
    "ExecuteTime": {
     "end_time": "2024-02-26T15:19:26.285002600Z",
     "start_time": "2024-02-26T15:19:26.267052300Z"
    }
   },
   "id": "e113f245a1d46923",
   "execution_count": 149
  },
  {
   "cell_type": "code",
   "outputs": [
    {
     "data": {
      "text/plain": "Index([   0,   23,   31,  205,  206,  349,  395,  396,  404,  463,  466,  920,\n        937,  977, 1010, 1011, 1012, 1025, 1027, 1029, 1249, 1254, 1280, 1286,\n       1289, 1292, 1295, 1317, 1354, 1365, 1433, 1585, 1618, 1627, 1641, 1711,\n       1717, 2058, 2060, 2064, 2065, 2066, 2067, 2070, 2116, 2117, 2137, 2496,\n       2527, 2624, 2643, 2717, 2799, 2801, 2815, 2843, 2951, 2953, 2991, 3209,\n       3242, 3258, 3272, 3273, 3275, 3283, 3284, 3355, 3359, 3378],\n      dtype='int64')"
     },
     "execution_count": 224,
     "metadata": {},
     "output_type": "execute_result"
    }
   ],
   "source": [
    "mask = df2[df2[\"conso\"] == 0]\n",
    "mask_index = mask.index\n",
    "mask_index"
   ],
   "metadata": {
    "collapsed": false,
    "ExecuteTime": {
     "end_time": "2024-02-26T15:50:09.622949Z",
     "start_time": "2024-02-26T15:50:09.594520400Z"
    }
   },
   "id": "aefe3759d97714bc",
   "execution_count": 224
  },
  {
   "cell_type": "code",
   "outputs": [
    {
     "ename": "KeyError",
     "evalue": "'[0, 23, 31, 205, 206, 349, 395, 396, 404, 463, 466, 920, 937, 977, 1010, 1011, 1012, 1025, 1027, 1029, 1249, 1254, 1280, 1286, 1289, 1292, 1295, 1317, 1354, 1365, 1433, 1585, 1618, 1627, 1641, 1711, 1717, 2058, 2060, 2064, 2065, 2066, 2067, 2070, 2116, 2117, 2137, 2496, 2527, 2624, 2643, 2717, 2799, 2801, 2815, 2843, 2951, 2953, 2991, 3209, 3242, 3258, 3272, 3273, 3275, 3283, 3284, 3355, 3359, 3378] not found in axis'",
     "output_type": "error",
     "traceback": [
      "\u001B[1;31m---------------------------------------------------------------------------\u001B[0m",
      "\u001B[1;31mKeyError\u001B[0m                                  Traceback (most recent call last)",
      "Cell \u001B[1;32mIn[227], line 1\u001B[0m\n\u001B[1;32m----> 1\u001B[0m df2 \u001B[38;5;241m=\u001B[39m \u001B[43mdf2\u001B[49m\u001B[38;5;241;43m.\u001B[39;49m\u001B[43mdrop\u001B[49m\u001B[43m(\u001B[49m\u001B[43mindex\u001B[49m\u001B[38;5;241;43m=\u001B[39;49m\u001B[43mmask_index\u001B[49m\u001B[43m,\u001B[49m\u001B[43m \u001B[49m\u001B[43minplace\u001B[49m\u001B[38;5;241;43m=\u001B[39;49m\u001B[38;5;28;43;01mTrue\u001B[39;49;00m\u001B[43m)\u001B[49m\n",
      "File \u001B[1;32m~\\AppData\\Local\\Programs\\Python\\Python312\\Lib\\site-packages\\pandas\\core\\frame.py:5568\u001B[0m, in \u001B[0;36mDataFrame.drop\u001B[1;34m(self, labels, axis, index, columns, level, inplace, errors)\u001B[0m\n\u001B[0;32m   5420\u001B[0m \u001B[38;5;28;01mdef\u001B[39;00m \u001B[38;5;21mdrop\u001B[39m(\n\u001B[0;32m   5421\u001B[0m     \u001B[38;5;28mself\u001B[39m,\n\u001B[0;32m   5422\u001B[0m     labels: IndexLabel \u001B[38;5;241m|\u001B[39m \u001B[38;5;28;01mNone\u001B[39;00m \u001B[38;5;241m=\u001B[39m \u001B[38;5;28;01mNone\u001B[39;00m,\n\u001B[1;32m   (...)\u001B[0m\n\u001B[0;32m   5429\u001B[0m     errors: IgnoreRaise \u001B[38;5;241m=\u001B[39m \u001B[38;5;124m\"\u001B[39m\u001B[38;5;124mraise\u001B[39m\u001B[38;5;124m\"\u001B[39m,\n\u001B[0;32m   5430\u001B[0m ) \u001B[38;5;241m-\u001B[39m\u001B[38;5;241m>\u001B[39m DataFrame \u001B[38;5;241m|\u001B[39m \u001B[38;5;28;01mNone\u001B[39;00m:\n\u001B[0;32m   5431\u001B[0m \u001B[38;5;250m    \u001B[39m\u001B[38;5;124;03m\"\"\"\u001B[39;00m\n\u001B[0;32m   5432\u001B[0m \u001B[38;5;124;03m    Drop specified labels from rows or columns.\u001B[39;00m\n\u001B[0;32m   5433\u001B[0m \n\u001B[1;32m   (...)\u001B[0m\n\u001B[0;32m   5566\u001B[0m \u001B[38;5;124;03m            weight  1.0     0.8\u001B[39;00m\n\u001B[0;32m   5567\u001B[0m \u001B[38;5;124;03m    \"\"\"\u001B[39;00m\n\u001B[1;32m-> 5568\u001B[0m     \u001B[38;5;28;01mreturn\u001B[39;00m \u001B[38;5;28;43msuper\u001B[39;49m\u001B[43m(\u001B[49m\u001B[43m)\u001B[49m\u001B[38;5;241;43m.\u001B[39;49m\u001B[43mdrop\u001B[49m\u001B[43m(\u001B[49m\n\u001B[0;32m   5569\u001B[0m \u001B[43m        \u001B[49m\u001B[43mlabels\u001B[49m\u001B[38;5;241;43m=\u001B[39;49m\u001B[43mlabels\u001B[49m\u001B[43m,\u001B[49m\n\u001B[0;32m   5570\u001B[0m \u001B[43m        \u001B[49m\u001B[43maxis\u001B[49m\u001B[38;5;241;43m=\u001B[39;49m\u001B[43maxis\u001B[49m\u001B[43m,\u001B[49m\n\u001B[0;32m   5571\u001B[0m \u001B[43m        \u001B[49m\u001B[43mindex\u001B[49m\u001B[38;5;241;43m=\u001B[39;49m\u001B[43mindex\u001B[49m\u001B[43m,\u001B[49m\n\u001B[0;32m   5572\u001B[0m \u001B[43m        \u001B[49m\u001B[43mcolumns\u001B[49m\u001B[38;5;241;43m=\u001B[39;49m\u001B[43mcolumns\u001B[49m\u001B[43m,\u001B[49m\n\u001B[0;32m   5573\u001B[0m \u001B[43m        \u001B[49m\u001B[43mlevel\u001B[49m\u001B[38;5;241;43m=\u001B[39;49m\u001B[43mlevel\u001B[49m\u001B[43m,\u001B[49m\n\u001B[0;32m   5574\u001B[0m \u001B[43m        \u001B[49m\u001B[43minplace\u001B[49m\u001B[38;5;241;43m=\u001B[39;49m\u001B[43minplace\u001B[49m\u001B[43m,\u001B[49m\n\u001B[0;32m   5575\u001B[0m \u001B[43m        \u001B[49m\u001B[43merrors\u001B[49m\u001B[38;5;241;43m=\u001B[39;49m\u001B[43merrors\u001B[49m\u001B[43m,\u001B[49m\n\u001B[0;32m   5576\u001B[0m \u001B[43m    \u001B[49m\u001B[43m)\u001B[49m\n",
      "File \u001B[1;32m~\\AppData\\Local\\Programs\\Python\\Python312\\Lib\\site-packages\\pandas\\core\\generic.py:4782\u001B[0m, in \u001B[0;36mNDFrame.drop\u001B[1;34m(self, labels, axis, index, columns, level, inplace, errors)\u001B[0m\n\u001B[0;32m   4780\u001B[0m \u001B[38;5;28;01mfor\u001B[39;00m axis, labels \u001B[38;5;129;01min\u001B[39;00m axes\u001B[38;5;241m.\u001B[39mitems():\n\u001B[0;32m   4781\u001B[0m     \u001B[38;5;28;01mif\u001B[39;00m labels \u001B[38;5;129;01mis\u001B[39;00m \u001B[38;5;129;01mnot\u001B[39;00m \u001B[38;5;28;01mNone\u001B[39;00m:\n\u001B[1;32m-> 4782\u001B[0m         obj \u001B[38;5;241m=\u001B[39m \u001B[43mobj\u001B[49m\u001B[38;5;241;43m.\u001B[39;49m\u001B[43m_drop_axis\u001B[49m\u001B[43m(\u001B[49m\u001B[43mlabels\u001B[49m\u001B[43m,\u001B[49m\u001B[43m \u001B[49m\u001B[43maxis\u001B[49m\u001B[43m,\u001B[49m\u001B[43m \u001B[49m\u001B[43mlevel\u001B[49m\u001B[38;5;241;43m=\u001B[39;49m\u001B[43mlevel\u001B[49m\u001B[43m,\u001B[49m\u001B[43m \u001B[49m\u001B[43merrors\u001B[49m\u001B[38;5;241;43m=\u001B[39;49m\u001B[43merrors\u001B[49m\u001B[43m)\u001B[49m\n\u001B[0;32m   4784\u001B[0m \u001B[38;5;28;01mif\u001B[39;00m inplace:\n\u001B[0;32m   4785\u001B[0m     \u001B[38;5;28mself\u001B[39m\u001B[38;5;241m.\u001B[39m_update_inplace(obj)\n",
      "File \u001B[1;32m~\\AppData\\Local\\Programs\\Python\\Python312\\Lib\\site-packages\\pandas\\core\\generic.py:4824\u001B[0m, in \u001B[0;36mNDFrame._drop_axis\u001B[1;34m(self, labels, axis, level, errors, only_slice)\u001B[0m\n\u001B[0;32m   4822\u001B[0m         new_axis \u001B[38;5;241m=\u001B[39m axis\u001B[38;5;241m.\u001B[39mdrop(labels, level\u001B[38;5;241m=\u001B[39mlevel, errors\u001B[38;5;241m=\u001B[39merrors)\n\u001B[0;32m   4823\u001B[0m     \u001B[38;5;28;01melse\u001B[39;00m:\n\u001B[1;32m-> 4824\u001B[0m         new_axis \u001B[38;5;241m=\u001B[39m \u001B[43maxis\u001B[49m\u001B[38;5;241;43m.\u001B[39;49m\u001B[43mdrop\u001B[49m\u001B[43m(\u001B[49m\u001B[43mlabels\u001B[49m\u001B[43m,\u001B[49m\u001B[43m \u001B[49m\u001B[43merrors\u001B[49m\u001B[38;5;241;43m=\u001B[39;49m\u001B[43merrors\u001B[49m\u001B[43m)\u001B[49m\n\u001B[0;32m   4825\u001B[0m     indexer \u001B[38;5;241m=\u001B[39m axis\u001B[38;5;241m.\u001B[39mget_indexer(new_axis)\n\u001B[0;32m   4827\u001B[0m \u001B[38;5;66;03m# Case for non-unique axis\u001B[39;00m\n\u001B[0;32m   4828\u001B[0m \u001B[38;5;28;01melse\u001B[39;00m:\n",
      "File \u001B[1;32m~\\AppData\\Local\\Programs\\Python\\Python312\\Lib\\site-packages\\pandas\\core\\indexes\\base.py:7069\u001B[0m, in \u001B[0;36mIndex.drop\u001B[1;34m(self, labels, errors)\u001B[0m\n\u001B[0;32m   7067\u001B[0m \u001B[38;5;28;01mif\u001B[39;00m mask\u001B[38;5;241m.\u001B[39many():\n\u001B[0;32m   7068\u001B[0m     \u001B[38;5;28;01mif\u001B[39;00m errors \u001B[38;5;241m!=\u001B[39m \u001B[38;5;124m\"\u001B[39m\u001B[38;5;124mignore\u001B[39m\u001B[38;5;124m\"\u001B[39m:\n\u001B[1;32m-> 7069\u001B[0m         \u001B[38;5;28;01mraise\u001B[39;00m \u001B[38;5;167;01mKeyError\u001B[39;00m(\u001B[38;5;124mf\u001B[39m\u001B[38;5;124m\"\u001B[39m\u001B[38;5;132;01m{\u001B[39;00mlabels[mask]\u001B[38;5;241m.\u001B[39mtolist()\u001B[38;5;132;01m}\u001B[39;00m\u001B[38;5;124m not found in axis\u001B[39m\u001B[38;5;124m\"\u001B[39m)\n\u001B[0;32m   7070\u001B[0m     indexer \u001B[38;5;241m=\u001B[39m indexer[\u001B[38;5;241m~\u001B[39mmask]\n\u001B[0;32m   7071\u001B[0m \u001B[38;5;28;01mreturn\u001B[39;00m \u001B[38;5;28mself\u001B[39m\u001B[38;5;241m.\u001B[39mdelete(indexer)\n",
      "\u001B[1;31mKeyError\u001B[0m: '[0, 23, 31, 205, 206, 349, 395, 396, 404, 463, 466, 920, 937, 977, 1010, 1011, 1012, 1025, 1027, 1029, 1249, 1254, 1280, 1286, 1289, 1292, 1295, 1317, 1354, 1365, 1433, 1585, 1618, 1627, 1641, 1711, 1717, 2058, 2060, 2064, 2065, 2066, 2067, 2070, 2116, 2117, 2137, 2496, 2527, 2624, 2643, 2717, 2799, 2801, 2815, 2843, 2951, 2953, 2991, 3209, 3242, 3258, 3272, 3273, 3275, 3283, 3284, 3355, 3359, 3378] not found in axis'"
     ]
    }
   ],
   "source": [
    "df2 = df2.drop(index=mask_index, inplace=True)"
   ],
   "metadata": {
    "collapsed": false,
    "ExecuteTime": {
     "end_time": "2024-02-26T15:50:46.778289300Z",
     "start_time": "2024-02-26T15:50:46.718519100Z"
    }
   },
   "id": "46c765e4dc69973f",
   "execution_count": 227
  },
  {
   "cell_type": "code",
   "outputs": [
    {
     "data": {
      "text/plain": "operateur                         0\nlibelle_categorie_consommation    0\nlibelle_grand_secteur             0\nlibelle_secteur_naf2              0\nconso                             0\npdl                               0\nindqual                           0\nnombre_mailles_secretisees        0\nlibelle_region                    0\ndtype: int64"
     },
     "execution_count": 231,
     "metadata": {},
     "output_type": "execute_result"
    }
   ],
   "source": [
    "df.loc[df2[\"conso\"] == 0].count()"
   ],
   "metadata": {
    "collapsed": false,
    "ExecuteTime": {
     "end_time": "2024-02-26T15:51:22.692494500Z",
     "start_time": "2024-02-26T15:51:22.680454600Z"
    }
   },
   "id": "f43e338d00fe4ab2",
   "execution_count": 231
  },
  {
   "cell_type": "code",
   "outputs": [
    {
     "data": {
      "text/plain": "                                              operateur  \\\n1                       Régie de Saint Paul Cap de Joux   \n2                       Régie de Saint Paul Cap de Joux   \n3     Régie du syndicat intercommunal d'électricité ...   \n4     Régie du syndicat intercommunal d'électricité ...   \n5     Régie du syndicat intercommunal d'électricité ...   \n...                                                 ...   \n3676                                             Enedis   \n3677                                             Enedis   \n3678                                             Enedis   \n3679                                             Enedis   \n3680                                             Enedis   \n\n     libelle_categorie_consommation libelle_grand_secteur  \\\n1              Petits professionels             Industrie   \n2                       Résidentiel           Résidentiel   \n3                       Entreprises             Industrie   \n4                       Entreprises             Tertiaire   \n5                       Entreprises             Tertiaire   \n...                             ...                   ...   \n3676                    Entreprises           Agriculture   \n3677                    Entreprises             Industrie   \n3678                    Entreprises             Industrie   \n3679                    Entreprises             Industrie   \n3680                    Entreprises             Industrie   \n\n                                   libelle_secteur_naf2         conso   pdl  \\\n1                                                     0      71.00000     1   \n2                                                     0    1580.00000   317   \n3                                                     0     191.21500     1   \n4                                           Hébergement    5710.84400    45   \n5                                          Enseignement     929.21900     7   \n...                                                 ...           ...   ...   \n3676                                                  0  409218.29420  3249   \n3677                            Fabrication de boissons   71571.81108    62   \n3678               Industrie du cuir et de la chaussure   21747.91298    66   \n3679  Fabrication de produits en caoutchouc et en pl...  486550.19540   281   \n3680                                        Métallurgie   95623.27677    51   \n\n      indqual  nombre_mailles_secretisees        libelle_region  \n1       0.500                           0             Occitanie  \n2       0.500                           0             Occitanie  \n3       1.000                           0  Auvergne-Rhône-Alpes  \n4       0.908                           0  Auvergne-Rhône-Alpes  \n5       1.000                           0  Auvergne-Rhône-Alpes  \n...       ...                         ...                   ...  \n3676    0.972                           0      Pays de la Loire  \n3677    0.998                           0      Pays de la Loire  \n3678    0.990                           0      Pays de la Loire  \n3679    0.999                           0      Pays de la Loire  \n3680    0.999                           0      Pays de la Loire  \n\n[3611 rows x 9 columns]",
      "text/html": "<div>\n<style scoped>\n    .dataframe tbody tr th:only-of-type {\n        vertical-align: middle;\n    }\n\n    .dataframe tbody tr th {\n        vertical-align: top;\n    }\n\n    .dataframe thead th {\n        text-align: right;\n    }\n</style>\n<table border=\"1\" class=\"dataframe\">\n  <thead>\n    <tr style=\"text-align: right;\">\n      <th></th>\n      <th>operateur</th>\n      <th>libelle_categorie_consommation</th>\n      <th>libelle_grand_secteur</th>\n      <th>libelle_secteur_naf2</th>\n      <th>conso</th>\n      <th>pdl</th>\n      <th>indqual</th>\n      <th>nombre_mailles_secretisees</th>\n      <th>libelle_region</th>\n    </tr>\n  </thead>\n  <tbody>\n    <tr>\n      <th>1</th>\n      <td>Régie de Saint Paul Cap de Joux</td>\n      <td>Petits professionels</td>\n      <td>Industrie</td>\n      <td>0</td>\n      <td>71.00000</td>\n      <td>1</td>\n      <td>0.500</td>\n      <td>0</td>\n      <td>Occitanie</td>\n    </tr>\n    <tr>\n      <th>2</th>\n      <td>Régie de Saint Paul Cap de Joux</td>\n      <td>Résidentiel</td>\n      <td>Résidentiel</td>\n      <td>0</td>\n      <td>1580.00000</td>\n      <td>317</td>\n      <td>0.500</td>\n      <td>0</td>\n      <td>Occitanie</td>\n    </tr>\n    <tr>\n      <th>3</th>\n      <td>Régie du syndicat intercommunal d'électricité ...</td>\n      <td>Entreprises</td>\n      <td>Industrie</td>\n      <td>0</td>\n      <td>191.21500</td>\n      <td>1</td>\n      <td>1.000</td>\n      <td>0</td>\n      <td>Auvergne-Rhône-Alpes</td>\n    </tr>\n    <tr>\n      <th>4</th>\n      <td>Régie du syndicat intercommunal d'électricité ...</td>\n      <td>Entreprises</td>\n      <td>Tertiaire</td>\n      <td>Hébergement</td>\n      <td>5710.84400</td>\n      <td>45</td>\n      <td>0.908</td>\n      <td>0</td>\n      <td>Auvergne-Rhône-Alpes</td>\n    </tr>\n    <tr>\n      <th>5</th>\n      <td>Régie du syndicat intercommunal d'électricité ...</td>\n      <td>Entreprises</td>\n      <td>Tertiaire</td>\n      <td>Enseignement</td>\n      <td>929.21900</td>\n      <td>7</td>\n      <td>1.000</td>\n      <td>0</td>\n      <td>Auvergne-Rhône-Alpes</td>\n    </tr>\n    <tr>\n      <th>...</th>\n      <td>...</td>\n      <td>...</td>\n      <td>...</td>\n      <td>...</td>\n      <td>...</td>\n      <td>...</td>\n      <td>...</td>\n      <td>...</td>\n      <td>...</td>\n    </tr>\n    <tr>\n      <th>3676</th>\n      <td>Enedis</td>\n      <td>Entreprises</td>\n      <td>Agriculture</td>\n      <td>0</td>\n      <td>409218.29420</td>\n      <td>3249</td>\n      <td>0.972</td>\n      <td>0</td>\n      <td>Pays de la Loire</td>\n    </tr>\n    <tr>\n      <th>3677</th>\n      <td>Enedis</td>\n      <td>Entreprises</td>\n      <td>Industrie</td>\n      <td>Fabrication de boissons</td>\n      <td>71571.81108</td>\n      <td>62</td>\n      <td>0.998</td>\n      <td>0</td>\n      <td>Pays de la Loire</td>\n    </tr>\n    <tr>\n      <th>3678</th>\n      <td>Enedis</td>\n      <td>Entreprises</td>\n      <td>Industrie</td>\n      <td>Industrie du cuir et de la chaussure</td>\n      <td>21747.91298</td>\n      <td>66</td>\n      <td>0.990</td>\n      <td>0</td>\n      <td>Pays de la Loire</td>\n    </tr>\n    <tr>\n      <th>3679</th>\n      <td>Enedis</td>\n      <td>Entreprises</td>\n      <td>Industrie</td>\n      <td>Fabrication de produits en caoutchouc et en pl...</td>\n      <td>486550.19540</td>\n      <td>281</td>\n      <td>0.999</td>\n      <td>0</td>\n      <td>Pays de la Loire</td>\n    </tr>\n    <tr>\n      <th>3680</th>\n      <td>Enedis</td>\n      <td>Entreprises</td>\n      <td>Industrie</td>\n      <td>Métallurgie</td>\n      <td>95623.27677</td>\n      <td>51</td>\n      <td>0.999</td>\n      <td>0</td>\n      <td>Pays de la Loire</td>\n    </tr>\n  </tbody>\n</table>\n<p>3611 rows × 9 columns</p>\n</div>"
     },
     "execution_count": 232,
     "metadata": {},
     "output_type": "execute_result"
    }
   ],
   "source": [
    "df = df2\n",
    "df"
   ],
   "metadata": {
    "collapsed": false,
    "ExecuteTime": {
     "end_time": "2024-02-26T15:51:36.410682100Z",
     "start_time": "2024-02-26T15:51:36.342358Z"
    }
   },
   "id": "c2d90e1dc47b0474",
   "execution_count": 232
  },
  {
   "cell_type": "markdown",
   "source": [
    "    Après 1er nettoyage"
   ],
   "metadata": {
    "collapsed": false
   },
   "id": "9fd16749d310f2e0"
  },
  {
   "cell_type": "code",
   "outputs": [
    {
     "data": {
      "text/plain": "(3681, 9)"
     },
     "execution_count": 173,
     "metadata": {},
     "output_type": "execute_result"
    }
   ],
   "source": [
    "df.shape"
   ],
   "metadata": {
    "collapsed": false,
    "ExecuteTime": {
     "end_time": "2024-02-26T15:27:41.561992400Z",
     "start_time": "2024-02-26T15:27:41.540987500Z"
    }
   },
   "id": "4efb50278615c259",
   "execution_count": 173
  },
  {
   "cell_type": "code",
   "outputs": [
    {
     "data": {
      "text/plain": "count    3.681000e+03\nmean     1.184806e+05\nstd      8.480894e+05\nmin      0.000000e+00\n25%      3.060000e+02\n50%      2.640515e+03\n75%      3.092825e+04\nmax      2.326833e+07\nName: conso, dtype: float64"
     },
     "execution_count": 124,
     "metadata": {},
     "output_type": "execute_result"
    }
   ],
   "source": [
    "df[\"conso\"].describe()"
   ],
   "metadata": {
    "collapsed": false,
    "ExecuteTime": {
     "end_time": "2024-02-26T15:11:48.061199800Z",
     "start_time": "2024-02-26T15:11:48.047722100Z"
    }
   },
   "id": "55e5dbac6a01f55b",
   "execution_count": 124
  },
  {
   "cell_type": "code",
   "outputs": [
    {
     "data": {
      "text/plain": "2640.515"
     },
     "execution_count": 188,
     "metadata": {},
     "output_type": "execute_result"
    }
   ],
   "source": [
    "df[\"conso\"].median()"
   ],
   "metadata": {
    "collapsed": false,
    "ExecuteTime": {
     "end_time": "2024-02-26T15:33:39.948540300Z",
     "start_time": "2024-02-26T15:33:39.942746300Z"
    }
   },
   "id": "3694a33782487d8",
   "execution_count": 188
  },
  {
   "cell_type": "code",
   "outputs": [
    {
     "data": {
      "text/plain": "<Figure size 640x480 with 1 Axes>",
      "image/png": "[encoded data removed]"
     },
     "metadata": {},
     "output_type": "display_data"
    }
   ],
   "source": [
    "plt.hist(df[\"conso\"])\n",
    "plt.show()"
   ],
   "metadata": {
    "collapsed": false,
    "ExecuteTime": {
     "end_time": "2024-02-26T15:51:41.673762800Z",
     "start_time": "2024-02-26T15:51:41.550855600Z"
    }
   },
   "id": "9691529524e1569f",
   "execution_count": 233
  },
  {
   "cell_type": "code",
   "outputs": [
    {
     "data": {
      "text/plain": "0            0.00000\n1           71.00000\n2         1580.00000\n3          191.21500\n4         5710.84400\n            ...     \n3676    409218.29420\n3677     71571.81108\n3678     21747.91298\n3679    486550.19540\n3680     95623.27677\nName: conso, Length: 3681, dtype: float64"
     },
     "execution_count": 135,
     "metadata": {},
     "output_type": "execute_result"
    }
   ],
   "source": [
    "df[\"conso\"]"
   ],
   "metadata": {
    "collapsed": false,
    "ExecuteTime": {
     "end_time": "2024-02-26T15:14:02.257651200Z",
     "start_time": "2024-02-26T15:14:02.250161500Z"
    }
   },
   "id": "8c44673d089dd6fc",
   "execution_count": 135
  },
  {
   "cell_type": "code",
   "outputs": [
    {
     "data": {
      "text/plain": "operateur                         3\nlibelle_categorie_consommation    3\nlibelle_categorie_consommation    3\nlibelle_categorie_consommation    3\nconso                             3\npdl                               3\nindqual                           3\nnombre_mailles_secretisees        3\nlibelle_categorie_consommation    3\ndtype: int64"
     },
     "execution_count": 145,
     "metadata": {},
     "output_type": "execute_result"
    }
   ],
   "source": [
    "df.loc[df[\"conso\"] > 1.610809e+07].count()"
   ],
   "metadata": {
    "collapsed": false,
    "ExecuteTime": {
     "end_time": "2024-02-26T15:16:57.159591100Z",
     "start_time": "2024-02-26T15:16:57.149618100Z"
    }
   },
   "id": "571c9b9b53380459",
   "execution_count": 145
  },
  {
   "cell_type": "code",
   "outputs": [
    {
     "data": {
      "text/plain": "operateur                         3608\nlibelle_categorie_consommation    3608\nlibelle_categorie_consommation    3608\nlibelle_categorie_consommation    3608\nconso                             3608\npdl                               3608\nindqual                           3608\nnombre_mailles_secretisees        3608\nlibelle_categorie_consommation    3608\ndtype: int64"
     },
     "execution_count": 146,
     "metadata": {},
     "output_type": "execute_result"
    }
   ],
   "source": [
    "df.loc[df[\"conso\"] > 0.5].count()"
   ],
   "metadata": {
    "collapsed": false,
    "ExecuteTime": {
     "end_time": "2024-02-26T15:17:30.200809500Z",
     "start_time": "2024-02-26T15:17:29.736041500Z"
    }
   },
   "id": "5ee5666fe4cab28b",
   "execution_count": 146
  },
  {
   "cell_type": "code",
   "outputs": [],
   "source": [
    "df.loc[df[\"libelle_\"]]"
   ],
   "metadata": {
    "collapsed": false
   },
   "id": "93c8ed4b6606a8a1"
  },
  {
   "cell_type": "code",
   "outputs": [
    {
     "data": {
      "text/plain": "libelle_grand_secteur\nTertiaire          1974\nIndustrie          1181\nSecteur Inconnu     214\nAgriculture         166\nRésidentiel         146\nName: count, dtype: int64"
     },
     "execution_count": 153,
     "metadata": {},
     "output_type": "execute_result"
    }
   ],
   "source": [
    "df[\"libelle_grand_secteur\"].value_counts()"
   ],
   "metadata": {
    "collapsed": false,
    "ExecuteTime": {
     "end_time": "2024-02-26T15:19:55.741076700Z",
     "start_time": "2024-02-26T15:19:55.706171900Z"
    }
   },
   "id": "1eb8ceccd35dcca5",
   "execution_count": 153
  },
  {
   "cell_type": "code",
   "outputs": [
    {
     "data": {
      "text/plain": "libelle_grand_secteur\nTertiaire          1964\nIndustrie          1161\nSecteur Inconnu     203\nAgriculture         143\nRésidentiel         137\nName: count, dtype: int64"
     },
     "execution_count": 159,
     "metadata": {},
     "output_type": "execute_result"
    }
   ],
   "source": [
    "df.loc[df[\"conso\"] > 0.][\"libelle_grand_secteur\"].value_counts()"
   ],
   "metadata": {
    "collapsed": false,
    "ExecuteTime": {
     "end_time": "2024-02-26T15:20:55.777462300Z",
     "start_time": "2024-02-26T15:20:55.756012100Z"
    }
   },
   "id": "d1f2bbfc0da1a871",
   "execution_count": 159
  },
  {
   "cell_type": "code",
   "outputs": [
    {
     "data": {
      "text/plain": "0             Tertiaire\n23            Industrie\n31            Industrie\n205           Tertiaire\n206     Secteur Inconnu\n             ...       \n3284        Résidentiel\n3355        Agriculture\n3359          Industrie\n3378        Agriculture\n3499          Tertiaire\nName: libelle_grand_secteur, Length: 73, dtype: object"
     },
     "execution_count": 178,
     "metadata": {},
     "output_type": "execute_result"
    }
   ],
   "source": [
    "df.loc[df[\"conso\"] < 0.5][\"libelle_grand_secteur\"]"
   ],
   "metadata": {
    "collapsed": false,
    "ExecuteTime": {
     "end_time": "2024-02-26T15:28:36.603854500Z",
     "start_time": "2024-02-26T15:28:36.596874600Z"
    }
   },
   "id": "3b6f583ec203365c",
   "execution_count": 178
  },
  {
   "cell_type": "code",
   "outputs": [
    {
     "data": {
      "text/plain": "operateur                         70\nlibelle_categorie_consommation    70\nlibelle_grand_secteur             70\nlibelle_secteur_naf2              70\nconso                             70\npdl                               70\nindqual                           70\nnombre_mailles_secretisees        70\nlibelle_region                    70\ndtype: int64"
     },
     "execution_count": 176,
     "metadata": {},
     "output_type": "execute_result"
    }
   ],
   "source": [
    "# 70 individus dont les données sont secrétisés\n",
    "df.loc[df[\"conso\"] == 0.0].count()"
   ],
   "metadata": {
    "collapsed": false,
    "ExecuteTime": {
     "end_time": "2024-02-26T15:28:19.683543700Z",
     "start_time": "2024-02-26T15:28:19.675054800Z"
    }
   },
   "id": "5702dbea50cc08ff",
   "execution_count": 176
  },
  {
   "cell_type": "code",
   "outputs": [
    {
     "data": {
      "text/plain": "operateur                         77\nlibelle_categorie_consommation    77\nlibelle_grand_secteur             77\nlibelle_secteur_naf2              77\nconso                             77\npdl                               77\nindqual                           77\nnombre_mailles_secretisees        77\nlibelle_region                    77\ndtype: int64"
     },
     "execution_count": 186,
     "metadata": {},
     "output_type": "execute_result"
    }
   ],
   "source": [
    "df.loc[df[\"conso\"].between(0,1)].count()"
   ],
   "metadata": {
    "collapsed": false,
    "ExecuteTime": {
     "end_time": "2024-02-26T15:32:44.245497400Z",
     "start_time": "2024-02-26T15:32:44.225551700Z"
    }
   },
   "id": "cb3dd760527ef62e",
   "execution_count": 186
  },
  {
   "cell_type": "code",
   "outputs": [
    {
     "data": {
      "text/plain": "operateur                         3604\nlibelle_categorie_consommation    3604\nlibelle_grand_secteur             3604\nlibelle_secteur_naf2              3604\nconso                             3604\npdl                               3604\nindqual                           3604\nnombre_mailles_secretisees        3604\nlibelle_region                    3604\ndtype: int64"
     },
     "execution_count": 208,
     "metadata": {},
     "output_type": "execute_result"
    }
   ],
   "source": [
    "df.loc[df[\"conso\"] > 1].count()"
   ],
   "metadata": {
    "collapsed": false,
    "ExecuteTime": {
     "end_time": "2024-02-26T15:36:47.083568600Z",
     "start_time": "2024-02-26T15:36:47.073596100Z"
    }
   },
   "id": "79921a97e28ce89",
   "execution_count": 208
  },
  {
   "cell_type": "code",
   "outputs": [
    {
     "data": {
      "text/plain": "operateur                         76\nlibelle_categorie_consommation    76\nlibelle_grand_secteur             76\nlibelle_secteur_naf2              76\nconso                             76\npdl                               76\nindqual                           76\nnombre_mailles_secretisees        76\nlibelle_region                    76\ndtype: int64"
     },
     "execution_count": 209,
     "metadata": {},
     "output_type": "execute_result"
    }
   ],
   "source": [
    "df.loc[df[\"conso\"] < 1].count()"
   ],
   "metadata": {
    "collapsed": false,
    "ExecuteTime": {
     "end_time": "2024-02-26T15:37:05.317348700Z",
     "start_time": "2024-02-26T15:37:05.297928600Z"
    }
   },
   "id": "2ee4004f780c6241",
   "execution_count": 209
  },
  {
   "cell_type": "code",
   "outputs": [
    {
     "data": {
      "text/plain": "(3611, 9)"
     },
     "execution_count": 234,
     "metadata": {},
     "output_type": "execute_result"
    }
   ],
   "source": [
    "df.shape"
   ],
   "metadata": {
    "collapsed": false,
    "ExecuteTime": {
     "end_time": "2024-02-26T15:51:53.856405Z",
     "start_time": "2024-02-26T15:51:53.846435300Z"
    }
   },
   "id": "4bd53ff002e56c32",
   "execution_count": 234
  },
  {
   "cell_type": "code",
   "outputs": [],
   "source": [
    "enedis = df[[\"operateur\",\"libelle_grand_secteur\"]].groupby(by=[\"operateur\",\"libelle_grand_secteur\"], as_index=True).value_counts()"
   ],
   "metadata": {
    "collapsed": false,
    "ExecuteTime": {
     "end_time": "2024-02-26T15:59:57.657624700Z",
     "start_time": "2024-02-26T15:59:57.631693700Z"
    }
   },
   "id": "ca74225857eb9343",
   "execution_count": 255
  },
  {
   "cell_type": "code",
   "outputs": [
    {
     "data": {
      "text/plain": "                                                                          count\noperateur                                          libelle_grand_secteur       \nArc Energies Maurienne                             Industrie                  1\n                                                   Résidentiel                1\n                                                   Tertiaire                  1\nCoopérative d'électricité de Saint Martin de Lo... Agriculture                3\n                                                   Industrie                 18\n...                                                                         ...\nVialis                                             Agriculture                3\n                                                   Industrie                 18\n                                                   Résidentiel                1\n                                                   Secteur Inconnu            2\n                                                   Tertiaire                 37\n\n[429 rows x 1 columns]",
      "text/html": "<div>\n<style scoped>\n    .dataframe tbody tr th:only-of-type {\n        vertical-align: middle;\n    }\n\n    .dataframe tbody tr th {\n        vertical-align: top;\n    }\n\n    .dataframe thead th {\n        text-align: right;\n    }\n</style>\n<table border=\"1\" class=\"dataframe\">\n  <thead>\n    <tr style=\"text-align: right;\">\n      <th></th>\n      <th></th>\n      <th>count</th>\n    </tr>\n    <tr>\n      <th>operateur</th>\n      <th>libelle_grand_secteur</th>\n      <th></th>\n    </tr>\n  </thead>\n  <tbody>\n    <tr>\n      <th rowspan=\"3\" valign=\"top\">Arc Energies Maurienne</th>\n      <th>Industrie</th>\n      <td>1</td>\n    </tr>\n    <tr>\n      <th>Résidentiel</th>\n      <td>1</td>\n    </tr>\n    <tr>\n      <th>Tertiaire</th>\n      <td>1</td>\n    </tr>\n    <tr>\n      <th rowspan=\"2\" valign=\"top\">Coopérative d'électricité de Saint Martin de Londres</th>\n      <th>Agriculture</th>\n      <td>3</td>\n    </tr>\n    <tr>\n      <th>Industrie</th>\n      <td>18</td>\n    </tr>\n    <tr>\n      <th>...</th>\n      <th>...</th>\n      <td>...</td>\n    </tr>\n    <tr>\n      <th rowspan=\"5\" valign=\"top\">Vialis</th>\n      <th>Agriculture</th>\n      <td>3</td>\n    </tr>\n    <tr>\n      <th>Industrie</th>\n      <td>18</td>\n    </tr>\n    <tr>\n      <th>Résidentiel</th>\n      <td>1</td>\n    </tr>\n    <tr>\n      <th>Secteur Inconnu</th>\n      <td>2</td>\n    </tr>\n    <tr>\n      <th>Tertiaire</th>\n      <td>37</td>\n    </tr>\n  </tbody>\n</table>\n<p>429 rows × 1 columns</p>\n</div>"
     },
     "execution_count": 260,
     "metadata": {},
     "output_type": "execute_result"
    }
   ],
   "source": [
    "enedis = pd.DataFrame(enedis)\n",
    "enedis"
   ],
   "metadata": {
    "collapsed": false,
    "ExecuteTime": {
     "end_time": "2024-02-26T16:00:22.936378900Z",
     "start_time": "2024-02-26T16:00:22.920915100Z"
    }
   },
   "id": "d41d8e94544d2dbb",
   "execution_count": 260
  },
  {
   "cell_type": "code",
   "outputs": [
    {
     "ename": "KeyError",
     "evalue": "'operateur'",
     "output_type": "error",
     "traceback": [
      "\u001B[1;31m---------------------------------------------------------------------------\u001B[0m",
      "\u001B[1;31mKeyError\u001B[0m                                  Traceback (most recent call last)",
      "File \u001B[1;32m~\\AppData\\Local\\Programs\\Python\\Python312\\Lib\\site-packages\\pandas\\core\\indexes\\base.py:3802\u001B[0m, in \u001B[0;36mIndex.get_loc\u001B[1;34m(self, key)\u001B[0m\n\u001B[0;32m   3801\u001B[0m \u001B[38;5;28;01mtry\u001B[39;00m:\n\u001B[1;32m-> 3802\u001B[0m     \u001B[38;5;28;01mreturn\u001B[39;00m \u001B[38;5;28;43mself\u001B[39;49m\u001B[38;5;241;43m.\u001B[39;49m\u001B[43m_engine\u001B[49m\u001B[38;5;241;43m.\u001B[39;49m\u001B[43mget_loc\u001B[49m\u001B[43m(\u001B[49m\u001B[43mcasted_key\u001B[49m\u001B[43m)\u001B[49m\n\u001B[0;32m   3803\u001B[0m \u001B[38;5;28;01mexcept\u001B[39;00m \u001B[38;5;167;01mKeyError\u001B[39;00m \u001B[38;5;28;01mas\u001B[39;00m err:\n",
      "File \u001B[1;32mindex.pyx:153\u001B[0m, in \u001B[0;36mpandas._libs.index.IndexEngine.get_loc\u001B[1;34m()\u001B[0m\n",
      "File \u001B[1;32mindex.pyx:182\u001B[0m, in \u001B[0;36mpandas._libs.index.IndexEngine.get_loc\u001B[1;34m()\u001B[0m\n",
      "File \u001B[1;32mpandas\\\\_libs\\\\hashtable_class_helper.pxi:7081\u001B[0m, in \u001B[0;36mpandas._libs.hashtable.PyObjectHashTable.get_item\u001B[1;34m()\u001B[0m\n",
      "File \u001B[1;32mpandas\\\\_libs\\\\hashtable_class_helper.pxi:7089\u001B[0m, in \u001B[0;36mpandas._libs.hashtable.PyObjectHashTable.get_item\u001B[1;34m()\u001B[0m\n",
      "\u001B[1;31mKeyError\u001B[0m: 'operateur'",
      "\nThe above exception was the direct cause of the following exception:\n",
      "\u001B[1;31mKeyError\u001B[0m                                  Traceback (most recent call last)",
      "Cell \u001B[1;32mIn[261], line 1\u001B[0m\n\u001B[1;32m----> 1\u001B[0m enedis\u001B[38;5;241m.\u001B[39mloc[\u001B[43menedis\u001B[49m\u001B[43m[\u001B[49m\u001B[38;5;124;43m\"\u001B[39;49m\u001B[38;5;124;43moperateur\u001B[39;49m\u001B[38;5;124;43m\"\u001B[39;49m\u001B[43m]\u001B[49m \u001B[38;5;241m==\u001B[39m \u001B[38;5;124m\"\u001B[39m\u001B[38;5;124mEnedis\u001B[39m\u001B[38;5;124m\"\u001B[39m]\n",
      "File \u001B[1;32m~\\AppData\\Local\\Programs\\Python\\Python312\\Lib\\site-packages\\pandas\\core\\frame.py:4090\u001B[0m, in \u001B[0;36mDataFrame.__getitem__\u001B[1;34m(self, key)\u001B[0m\n\u001B[0;32m   4088\u001B[0m \u001B[38;5;28;01mif\u001B[39;00m \u001B[38;5;28mself\u001B[39m\u001B[38;5;241m.\u001B[39mcolumns\u001B[38;5;241m.\u001B[39mnlevels \u001B[38;5;241m>\u001B[39m \u001B[38;5;241m1\u001B[39m:\n\u001B[0;32m   4089\u001B[0m     \u001B[38;5;28;01mreturn\u001B[39;00m \u001B[38;5;28mself\u001B[39m\u001B[38;5;241m.\u001B[39m_getitem_multilevel(key)\n\u001B[1;32m-> 4090\u001B[0m indexer \u001B[38;5;241m=\u001B[39m \u001B[38;5;28;43mself\u001B[39;49m\u001B[38;5;241;43m.\u001B[39;49m\u001B[43mcolumns\u001B[49m\u001B[38;5;241;43m.\u001B[39;49m\u001B[43mget_loc\u001B[49m\u001B[43m(\u001B[49m\u001B[43mkey\u001B[49m\u001B[43m)\u001B[49m\n\u001B[0;32m   4091\u001B[0m \u001B[38;5;28;01mif\u001B[39;00m is_integer(indexer):\n\u001B[0;32m   4092\u001B[0m     indexer \u001B[38;5;241m=\u001B[39m [indexer]\n",
      "File \u001B[1;32m~\\AppData\\Local\\Programs\\Python\\Python312\\Lib\\site-packages\\pandas\\core\\indexes\\base.py:3809\u001B[0m, in \u001B[0;36mIndex.get_loc\u001B[1;34m(self, key)\u001B[0m\n\u001B[0;32m   3804\u001B[0m     \u001B[38;5;28;01mif\u001B[39;00m \u001B[38;5;28misinstance\u001B[39m(casted_key, \u001B[38;5;28mslice\u001B[39m) \u001B[38;5;129;01mor\u001B[39;00m (\n\u001B[0;32m   3805\u001B[0m         \u001B[38;5;28misinstance\u001B[39m(casted_key, abc\u001B[38;5;241m.\u001B[39mIterable)\n\u001B[0;32m   3806\u001B[0m         \u001B[38;5;129;01mand\u001B[39;00m \u001B[38;5;28many\u001B[39m(\u001B[38;5;28misinstance\u001B[39m(x, \u001B[38;5;28mslice\u001B[39m) \u001B[38;5;28;01mfor\u001B[39;00m x \u001B[38;5;129;01min\u001B[39;00m casted_key)\n\u001B[0;32m   3807\u001B[0m     ):\n\u001B[0;32m   3808\u001B[0m         \u001B[38;5;28;01mraise\u001B[39;00m InvalidIndexError(key)\n\u001B[1;32m-> 3809\u001B[0m     \u001B[38;5;28;01mraise\u001B[39;00m \u001B[38;5;167;01mKeyError\u001B[39;00m(key) \u001B[38;5;28;01mfrom\u001B[39;00m \u001B[38;5;21;01merr\u001B[39;00m\n\u001B[0;32m   3810\u001B[0m \u001B[38;5;28;01mexcept\u001B[39;00m \u001B[38;5;167;01mTypeError\u001B[39;00m:\n\u001B[0;32m   3811\u001B[0m     \u001B[38;5;66;03m# If we have a listlike key, _check_indexing_error will raise\u001B[39;00m\n\u001B[0;32m   3812\u001B[0m     \u001B[38;5;66;03m#  InvalidIndexError. Otherwise we fall through and re-raise\u001B[39;00m\n\u001B[0;32m   3813\u001B[0m     \u001B[38;5;66;03m#  the TypeError.\u001B[39;00m\n\u001B[0;32m   3814\u001B[0m     \u001B[38;5;28mself\u001B[39m\u001B[38;5;241m.\u001B[39m_check_indexing_error(key)\n",
      "\u001B[1;31mKeyError\u001B[0m: 'operateur'"
     ]
    }
   ],
   "source": [
    "enedis.loc[enedis[\"operateur\"] == \"Enedis\"]"
   ],
   "metadata": {
    "collapsed": false,
    "ExecuteTime": {
     "end_time": "2024-02-26T16:00:25.377826600Z",
     "start_time": "2024-02-26T16:00:25.321711500Z"
    }
   },
   "id": "40dd86fcae299d2e",
   "execution_count": 261
  },
  {
   "cell_type": "code",
   "outputs": [
    {
     "data": {
      "text/plain": "Index(['count'], dtype='object')"
     },
     "execution_count": 262,
     "metadata": {},
     "output_type": "execute_result"
    }
   ],
   "source": [
    "enedis.columns"
   ],
   "metadata": {
    "collapsed": false,
    "ExecuteTime": {
     "end_time": "2024-02-26T16:00:27.120961900Z",
     "start_time": "2024-02-26T16:00:27.100509Z"
    }
   },
   "id": "8a924a17448a2a09",
   "execution_count": 262
  },
  {
   "cell_type": "code",
   "outputs": [],
   "source": [
    "mask = enedis.reset_index()"
   ],
   "metadata": {
    "collapsed": false,
    "ExecuteTime": {
     "end_time": "2024-02-26T16:02:02.505390800Z",
     "start_time": "2024-02-26T16:02:02.493035300Z"
    }
   },
   "id": "a6ff48e8c6cabbb5",
   "execution_count": 267
  },
  {
   "cell_type": "code",
   "outputs": [
    {
     "data": {
      "text/plain": "   operateur libelle_grand_secteur  count\n22    Enedis           Agriculture     48\n23    Enedis             Industrie    363\n24    Enedis           Résidentiel     13\n25    Enedis       Secteur Inconnu     26\n26    Enedis             Tertiaire    645",
      "text/html": "<div>\n<style scoped>\n    .dataframe tbody tr th:only-of-type {\n        vertical-align: middle;\n    }\n\n    .dataframe tbody tr th {\n        vertical-align: top;\n    }\n\n    .dataframe thead th {\n        text-align: right;\n    }\n</style>\n<table border=\"1\" class=\"dataframe\">\n  <thead>\n    <tr style=\"text-align: right;\">\n      <th></th>\n      <th>operateur</th>\n      <th>libelle_grand_secteur</th>\n      <th>count</th>\n    </tr>\n  </thead>\n  <tbody>\n    <tr>\n      <th>22</th>\n      <td>Enedis</td>\n      <td>Agriculture</td>\n      <td>48</td>\n    </tr>\n    <tr>\n      <th>23</th>\n      <td>Enedis</td>\n      <td>Industrie</td>\n      <td>363</td>\n    </tr>\n    <tr>\n      <th>24</th>\n      <td>Enedis</td>\n      <td>Résidentiel</td>\n      <td>13</td>\n    </tr>\n    <tr>\n      <th>25</th>\n      <td>Enedis</td>\n      <td>Secteur Inconnu</td>\n      <td>26</td>\n    </tr>\n    <tr>\n      <th>26</th>\n      <td>Enedis</td>\n      <td>Tertiaire</td>\n      <td>645</td>\n    </tr>\n  </tbody>\n</table>\n</div>"
     },
     "execution_count": 270,
     "metadata": {},
     "output_type": "execute_result"
    }
   ],
   "source": [
    "mask.loc[mask[\"operateur\"] == \"Enedis\"]"
   ],
   "metadata": {
    "collapsed": false,
    "ExecuteTime": {
     "end_time": "2024-02-26T16:02:28.961352900Z",
     "start_time": "2024-02-26T16:02:28.942403600Z"
    }
   },
   "id": "ac917027c584baf4",
   "execution_count": 270
  },
  {
   "cell_type": "code",
   "outputs": [
    {
     "data": {
      "text/plain": "<Figure size 640x480 with 1 Axes>",
      "image/png": "[encoded data removed]"
     },
     "metadata": {},
     "output_type": "display_data"
    }
   ],
   "source": [
    "plt.bar(x=df[\"libelle_grand_secteur\"], height=df[\"conso\"])\n",
    "plt.xlabel(\"Secteur d'activités\")\n",
    "plt.ylabel(\"Consommation en kWh (en notation scientifique)\")\n",
    "plt.show()"
   ],
   "metadata": {
    "collapsed": false,
    "ExecuteTime": {
     "end_time": "2024-02-26T16:09:17.550215900Z",
     "start_time": "2024-02-26T16:09:14.047527300Z"
    }
   },
   "id": "c98b2f3fcfc503fc",
   "execution_count": 282
  },
  {
   "cell_type": "code",
   "outputs": [],
   "source": [],
   "metadata": {
    "collapsed": false
   },
   "id": "7f1d66be9411e821"
  },
  {
   "cell_type": "code",
   "outputs": [],
   "source": [],
   "metadata": {
    "collapsed": false
   },
   "id": "692c898af8341cc1"
  },
  {
   "cell_type": "code",
   "outputs": [],
   "source": [],
   "metadata": {
    "collapsed": false
   },
   "id": "cf71cc7a6d7ef273"
  },
  {
   "cell_type": "code",
   "outputs": [],
   "source": [],
   "metadata": {
    "collapsed": false
   },
   "id": "6b89bb053ce405c6"
  },
  {
   "cell_type": "code",
   "outputs": [],
   "source": [],
   "metadata": {
    "collapsed": false
   },
   "id": "158a3920959c6693"
  },
  {
   "cell_type": "code",
   "outputs": [],
   "source": [
    "import pandas as pd\n",
    "import numpy as np\n",
    "import matplotlib.pyplot as plt\n",
    "df = pd.read_csv(\"edf_cleaned.csv\",index_col=0)"
   ],
   "metadata": {
    "collapsed": false,
    "ExecuteTime": {
     "end_time": "2024-02-28T03:42:11.727625Z",
     "start_time": "2024-02-28T03:42:11.706682Z"
    }
   },
   "id": "dde89a76f7fddc53",
   "execution_count": 3
  },
  {
   "cell_type": "code",
   "outputs": [
    {
     "data": {
      "text/plain": "                                           operateur  \\\n1                    Régie de Saint Paul Cap de Joux   \n2                    Régie de Saint Paul Cap de Joux   \n3  Régie du syndicat intercommunal d'électricité ...   \n4  Régie du syndicat intercommunal d'électricité ...   \n5  Régie du syndicat intercommunal d'électricité ...   \n\n  libelle_categorie_consommation libelle_grand_secteur libelle_secteur_naf2  \\\n1           Petits professionels             Industrie                    0   \n2                    Résidentiel           Résidentiel                    0   \n3                    Entreprises             Industrie                    0   \n4                    Entreprises             Tertiaire          Hébergement   \n5                    Entreprises             Tertiaire         Enseignement   \n\n      conso  pdl  indqual  nombre_mailles_secretisees        libelle_region  \n1    71.000    1    0.500                           0             Occitanie  \n2  1580.000  317    0.500                           0             Occitanie  \n3   191.215    1    1.000                           0  Auvergne-Rhône-Alpes  \n4  5710.844   45    0.908                           0  Auvergne-Rhône-Alpes  \n5   929.219    7    1.000                           0  Auvergne-Rhône-Alpes  ",
      "text/html": "<div>\n<style scoped>\n    .dataframe tbody tr th:only-of-type {\n        vertical-align: middle;\n    }\n\n    .dataframe tbody tr th {\n        vertical-align: top;\n    }\n\n    .dataframe thead th {\n        text-align: right;\n    }\n</style>\n<table border=\"1\" class=\"dataframe\">\n  <thead>\n    <tr style=\"text-align: right;\">\n      <th></th>\n      <th>operateur</th>\n      <th>libelle_categorie_consommation</th>\n      <th>libelle_grand_secteur</th>\n      <th>libelle_secteur_naf2</th>\n      <th>conso</th>\n      <th>pdl</th>\n      <th>indqual</th>\n      <th>nombre_mailles_secretisees</th>\n      <th>libelle_region</th>\n    </tr>\n  </thead>\n  <tbody>\n    <tr>\n      <th>1</th>\n      <td>Régie de Saint Paul Cap de Joux</td>\n      <td>Petits professionels</td>\n      <td>Industrie</td>\n      <td>0</td>\n      <td>71.000</td>\n      <td>1</td>\n      <td>0.500</td>\n      <td>0</td>\n      <td>Occitanie</td>\n    </tr>\n    <tr>\n      <th>2</th>\n      <td>Régie de Saint Paul Cap de Joux</td>\n      <td>Résidentiel</td>\n      <td>Résidentiel</td>\n      <td>0</td>\n      <td>1580.000</td>\n      <td>317</td>\n      <td>0.500</td>\n      <td>0</td>\n      <td>Occitanie</td>\n    </tr>\n    <tr>\n      <th>3</th>\n      <td>Régie du syndicat intercommunal d'électricité ...</td>\n      <td>Entreprises</td>\n      <td>Industrie</td>\n      <td>0</td>\n      <td>191.215</td>\n      <td>1</td>\n      <td>1.000</td>\n      <td>0</td>\n      <td>Auvergne-Rhône-Alpes</td>\n    </tr>\n    <tr>\n      <th>4</th>\n      <td>Régie du syndicat intercommunal d'électricité ...</td>\n      <td>Entreprises</td>\n      <td>Tertiaire</td>\n      <td>Hébergement</td>\n      <td>5710.844</td>\n      <td>45</td>\n      <td>0.908</td>\n      <td>0</td>\n      <td>Auvergne-Rhône-Alpes</td>\n    </tr>\n    <tr>\n      <th>5</th>\n      <td>Régie du syndicat intercommunal d'électricité ...</td>\n      <td>Entreprises</td>\n      <td>Tertiaire</td>\n      <td>Enseignement</td>\n      <td>929.219</td>\n      <td>7</td>\n      <td>1.000</td>\n      <td>0</td>\n      <td>Auvergne-Rhône-Alpes</td>\n    </tr>\n  </tbody>\n</table>\n</div>"
     },
     "execution_count": 4,
     "metadata": {},
     "output_type": "execute_result"
    }
   ],
   "source": [
    "df.head(5)"
   ],
   "metadata": {
    "collapsed": false,
    "ExecuteTime": {
     "end_time": "2024-02-28T03:42:13.293474Z",
     "start_time": "2024-02-28T03:42:13.283850Z"
    }
   },
   "id": "788405481444e748",
   "execution_count": 4
  },
  {
   "cell_type": "code",
   "outputs": [
    {
     "data": {
      "text/plain": "                                                                 operateur  \\\nlibelle_region                                                               \nAuvergne-Rhône-Alpes     Régie du syndicat intercommunal d'électricité ...   \nBourgogne-Franche-Comté  Régie municipale d'électricité de Salins les B...   \nBretagne                 RTERTERTEEdF-SEIEnedisEnedisEnedisEnedisEnedis...   \nCentre-Val de Loire      RTESICAE ELYSICAPSICAPSICAPSynelvaSynelvaSynel...   \nCorse                    EdF-SEIEdF-SEIEdF-SEIEdF-SEIEdF-SEIEdF-SEIEdF-...   \n\n                                            libelle_categorie_consommation  \\\nlibelle_region                                                               \nAuvergne-Rhône-Alpes     EntreprisesEntreprisesEntreprisesEntreprisesPe...   \nBourgogne-Franche-Comté  EntreprisesEntreprisesEntreprisesEntreprisesEn...   \nBretagne                 EntreprisesEntreprisesEntreprisesEntreprisesEn...   \nCentre-Val de Loire      EntreprisesPetits professionelsEntreprisesEntr...   \nCorse                    EntreprisesEntreprisesEntreprisesEntreprisesEn...   \n\n                                                     libelle_grand_secteur  \\\nlibelle_region                                                               \nAuvergne-Rhône-Alpes     IndustrieTertiaireTertiaireTertiaireAgricultur...   \nBourgogne-Franche-Comté  IndustrieIndustrieIndustrieIndustrieIndustrieI...   \nBretagne                 TertiaireIndustrieIndustrieTertiaireAgricultur...   \nCentre-Val de Loire      TertiaireIndustrieIndustrieTertiaireIndustrieI...   \nCorse                    IndustrieIndustrieIndustrieTertiaireTertiaireT...   \n\n                                                      libelle_secteur_naf2  \\\nlibelle_region                                                               \nAuvergne-Rhône-Alpes     0HébergementEnseignementAutres services person...   \nBourgogne-Franche-Comté  Fabrication de produits métalliques, à l'excep...   \nBretagne                 Activités d'architecture et d'ingénierie ; act...   \nCentre-Val de Loire      Transports terrestres et transport par conduit...   \nCorse                    Industries alimentairesAutres industries manuf...   \n\n                                conso      pdl   indqual  \\\nlibelle_region                                             \nAuvergne-Rhône-Alpes     6.045773e+07  5192789  351.4876   \nBourgogne-Franche-Comté  1.924332e+07  1774370  154.1922   \nBretagne                 2.171665e+07  2195872   96.0810   \nCentre-Val de Loire      1.701260e+07  1572015  248.0043   \nCorse                    2.021993e+06   260638    0.0000   \n\n                         nombre_mailles_secretisees  \nlibelle_region                                       \nAuvergne-Rhône-Alpes                              0  \nBourgogne-Franche-Comté                           0  \nBretagne                                          0  \nCentre-Val de Loire                               0  \nCorse                                             0  ",
      "text/html": "<div>\n<style scoped>\n    .dataframe tbody tr th:only-of-type {\n        vertical-align: middle;\n    }\n\n    .dataframe tbody tr th {\n        vertical-align: top;\n    }\n\n    .dataframe thead th {\n        text-align: right;\n    }\n</style>\n<table border=\"1\" class=\"dataframe\">\n  <thead>\n    <tr style=\"text-align: right;\">\n      <th></th>\n      <th>operateur</th>\n      <th>libelle_categorie_consommation</th>\n      <th>libelle_grand_secteur</th>\n      <th>libelle_secteur_naf2</th>\n      <th>conso</th>\n      <th>pdl</th>\n      <th>indqual</th>\n      <th>nombre_mailles_secretisees</th>\n    </tr>\n    <tr>\n      <th>libelle_region</th>\n      <th></th>\n      <th></th>\n      <th></th>\n      <th></th>\n      <th></th>\n      <th></th>\n      <th></th>\n      <th></th>\n    </tr>\n  </thead>\n  <tbody>\n    <tr>\n      <th>Auvergne-Rhône-Alpes</th>\n      <td>Régie du syndicat intercommunal d'électricité ...</td>\n      <td>EntreprisesEntreprisesEntreprisesEntreprisesPe...</td>\n      <td>IndustrieTertiaireTertiaireTertiaireAgricultur...</td>\n      <td>0HébergementEnseignementAutres services person...</td>\n      <td>6.045773e+07</td>\n      <td>5192789</td>\n      <td>351.4876</td>\n      <td>0</td>\n    </tr>\n    <tr>\n      <th>Bourgogne-Franche-Comté</th>\n      <td>Régie municipale d'électricité de Salins les B...</td>\n      <td>EntreprisesEntreprisesEntreprisesEntreprisesEn...</td>\n      <td>IndustrieIndustrieIndustrieIndustrieIndustrieI...</td>\n      <td>Fabrication de produits métalliques, à l'excep...</td>\n      <td>1.924332e+07</td>\n      <td>1774370</td>\n      <td>154.1922</td>\n      <td>0</td>\n    </tr>\n    <tr>\n      <th>Bretagne</th>\n      <td>RTERTERTEEdF-SEIEnedisEnedisEnedisEnedisEnedis...</td>\n      <td>EntreprisesEntreprisesEntreprisesEntreprisesEn...</td>\n      <td>TertiaireIndustrieIndustrieTertiaireAgricultur...</td>\n      <td>Activités d'architecture et d'ingénierie ; act...</td>\n      <td>2.171665e+07</td>\n      <td>2195872</td>\n      <td>96.0810</td>\n      <td>0</td>\n    </tr>\n    <tr>\n      <th>Centre-Val de Loire</th>\n      <td>RTESICAE ELYSICAPSICAPSICAPSynelvaSynelvaSynel...</td>\n      <td>EntreprisesPetits professionelsEntreprisesEntr...</td>\n      <td>TertiaireIndustrieIndustrieTertiaireIndustrieI...</td>\n      <td>Transports terrestres et transport par conduit...</td>\n      <td>1.701260e+07</td>\n      <td>1572015</td>\n      <td>248.0043</td>\n      <td>0</td>\n    </tr>\n    <tr>\n      <th>Corse</th>\n      <td>EdF-SEIEdF-SEIEdF-SEIEdF-SEIEdF-SEIEdF-SEIEdF-...</td>\n      <td>EntreprisesEntreprisesEntreprisesEntreprisesEn...</td>\n      <td>IndustrieIndustrieIndustrieTertiaireTertiaireT...</td>\n      <td>Industries alimentairesAutres industries manuf...</td>\n      <td>2.021993e+06</td>\n      <td>260638</td>\n      <td>0.0000</td>\n      <td>0</td>\n    </tr>\n  </tbody>\n</table>\n</div>"
     },
     "execution_count": 17,
     "metadata": {},
     "output_type": "execute_result"
    }
   ],
   "source": [
    "df_g = df.groupby(by=[\"libelle_region\"]).sum()\n",
    "df_g.head(5)"
   ],
   "metadata": {
    "collapsed": false,
    "ExecuteTime": {
     "end_time": "2024-02-28T03:53:15.544671Z",
     "start_time": "2024-02-28T03:53:15.527075Z"
    }
   },
   "id": "769bbcd8e5cd076",
   "execution_count": 17
  },
  {
   "cell_type": "code",
   "outputs": [
    {
     "ename": "KeyError",
     "evalue": "\"None of ['operateur'] are in the columns\"",
     "output_type": "error",
     "traceback": [
      "\u001B[1;31m---------------------------------------------------------------------------\u001B[0m",
      "\u001B[1;31mKeyError\u001B[0m                                  Traceback (most recent call last)",
      "\u001B[1;32m~\\AppData\\Local\\Temp\\ipykernel_12928\\1107446490.py\u001B[0m in \u001B[0;36m?\u001B[1;34m()\u001B[0m\n\u001B[1;32m----> 1\u001B[1;33m \u001B[0mdf_g\u001B[0m\u001B[1;33m.\u001B[0m\u001B[0mset_index\u001B[0m\u001B[1;33m(\u001B[0m\u001B[1;34m\"operateur\"\u001B[0m\u001B[1;33m,\u001B[0m \u001B[0minplace\u001B[0m\u001B[1;33m=\u001B[0m\u001B[1;32mTrue\u001B[0m\u001B[1;33m)\u001B[0m\u001B[1;33m\u001B[0m\u001B[1;33m\u001B[0m\u001B[0m\n\u001B[0m",
      "\u001B[1;32m~\\AppData\\Local\\Programs\\Python\\Python312\\Lib\\site-packages\\pandas\\core\\frame.py\u001B[0m in \u001B[0;36m?\u001B[1;34m(self, keys, drop, append, inplace, verify_integrity)\u001B[0m\n\u001B[0;32m   6102\u001B[0m                     \u001B[1;32mif\u001B[0m \u001B[1;32mnot\u001B[0m \u001B[0mfound\u001B[0m\u001B[1;33m:\u001B[0m\u001B[1;33m\u001B[0m\u001B[1;33m\u001B[0m\u001B[0m\n\u001B[0;32m   6103\u001B[0m                         \u001B[0mmissing\u001B[0m\u001B[1;33m.\u001B[0m\u001B[0mappend\u001B[0m\u001B[1;33m(\u001B[0m\u001B[0mcol\u001B[0m\u001B[1;33m)\u001B[0m\u001B[1;33m\u001B[0m\u001B[1;33m\u001B[0m\u001B[0m\n\u001B[0;32m   6104\u001B[0m \u001B[1;33m\u001B[0m\u001B[0m\n\u001B[0;32m   6105\u001B[0m         \u001B[1;32mif\u001B[0m \u001B[0mmissing\u001B[0m\u001B[1;33m:\u001B[0m\u001B[1;33m\u001B[0m\u001B[1;33m\u001B[0m\u001B[0m\n\u001B[1;32m-> 6106\u001B[1;33m             \u001B[1;32mraise\u001B[0m \u001B[0mKeyError\u001B[0m\u001B[1;33m(\u001B[0m\u001B[1;33mf\"\u001B[0m\u001B[1;33mNone of \u001B[0m\u001B[1;33m{\u001B[0m\u001B[0mmissing\u001B[0m\u001B[1;33m}\u001B[0m\u001B[1;33m are in the columns\u001B[0m\u001B[1;33m\"\u001B[0m\u001B[1;33m)\u001B[0m\u001B[1;33m\u001B[0m\u001B[1;33m\u001B[0m\u001B[0m\n\u001B[0m\u001B[0;32m   6107\u001B[0m \u001B[1;33m\u001B[0m\u001B[0m\n\u001B[0;32m   6108\u001B[0m         \u001B[1;32mif\u001B[0m \u001B[0minplace\u001B[0m\u001B[1;33m:\u001B[0m\u001B[1;33m\u001B[0m\u001B[1;33m\u001B[0m\u001B[0m\n\u001B[0;32m   6109\u001B[0m             \u001B[0mframe\u001B[0m \u001B[1;33m=\u001B[0m \u001B[0mself\u001B[0m\u001B[1;33m\u001B[0m\u001B[1;33m\u001B[0m\u001B[0m\n",
      "\u001B[1;31mKeyError\u001B[0m: \"None of ['operateur'] are in the columns\""
     ]
    }
   ],
   "source": [
    "df_g.set_index(\"operateur\", inplace=True)"
   ],
   "metadata": {
    "collapsed": false,
    "ExecuteTime": {
     "end_time": "2024-02-28T03:46:16.318062Z",
     "start_time": "2024-02-28T03:46:16.307092Z"
    }
   },
   "id": "96eeb878db2c2804",
   "execution_count": 14
  },
  {
   "cell_type": "code",
   "outputs": [
    {
     "ename": "KeyError",
     "evalue": "\"['operateur', 'libelle_grand_secteur'] not in index\"",
     "output_type": "error",
     "traceback": [
      "\u001B[1;31m---------------------------------------------------------------------------\u001B[0m",
      "\u001B[1;31mKeyError\u001B[0m                                  Traceback (most recent call last)",
      "Cell \u001B[1;32mIn[13], line 1\u001B[0m\n\u001B[1;32m----> 1\u001B[0m df_g2 \u001B[38;5;241m=\u001B[39m \u001B[43mdf_g\u001B[49m\u001B[43m[\u001B[49m\u001B[43m[\u001B[49m\u001B[38;5;124;43m\"\u001B[39;49m\u001B[38;5;124;43moperateur\u001B[39;49m\u001B[38;5;124;43m\"\u001B[39;49m\u001B[43m,\u001B[49m\u001B[38;5;124;43m\"\u001B[39;49m\u001B[38;5;124;43mlibelle_grand_secteur\u001B[39;49m\u001B[38;5;124;43m\"\u001B[39;49m\u001B[43m,\u001B[49m\u001B[38;5;124;43m\"\u001B[39;49m\u001B[38;5;124;43mconso\u001B[39;49m\u001B[38;5;124;43m\"\u001B[39;49m\u001B[43m,\u001B[49m\u001B[38;5;124;43m\"\u001B[39;49m\u001B[38;5;124;43mpdl\u001B[39;49m\u001B[38;5;124;43m\"\u001B[39;49m\u001B[43m]\u001B[49m\u001B[43m]\u001B[49m\n\u001B[0;32m      2\u001B[0m df_g2\n",
      "File \u001B[1;32m~\\AppData\\Local\\Programs\\Python\\Python312\\Lib\\site-packages\\pandas\\core\\frame.py:4096\u001B[0m, in \u001B[0;36mDataFrame.__getitem__\u001B[1;34m(self, key)\u001B[0m\n\u001B[0;32m   4094\u001B[0m     \u001B[38;5;28;01mif\u001B[39;00m is_iterator(key):\n\u001B[0;32m   4095\u001B[0m         key \u001B[38;5;241m=\u001B[39m \u001B[38;5;28mlist\u001B[39m(key)\n\u001B[1;32m-> 4096\u001B[0m     indexer \u001B[38;5;241m=\u001B[39m \u001B[38;5;28;43mself\u001B[39;49m\u001B[38;5;241;43m.\u001B[39;49m\u001B[43mcolumns\u001B[49m\u001B[38;5;241;43m.\u001B[39;49m\u001B[43m_get_indexer_strict\u001B[49m\u001B[43m(\u001B[49m\u001B[43mkey\u001B[49m\u001B[43m,\u001B[49m\u001B[43m \u001B[49m\u001B[38;5;124;43m\"\u001B[39;49m\u001B[38;5;124;43mcolumns\u001B[39;49m\u001B[38;5;124;43m\"\u001B[39;49m\u001B[43m)\u001B[49m[\u001B[38;5;241m1\u001B[39m]\n\u001B[0;32m   4098\u001B[0m \u001B[38;5;66;03m# take() does not accept boolean indexers\u001B[39;00m\n\u001B[0;32m   4099\u001B[0m \u001B[38;5;28;01mif\u001B[39;00m \u001B[38;5;28mgetattr\u001B[39m(indexer, \u001B[38;5;124m\"\u001B[39m\u001B[38;5;124mdtype\u001B[39m\u001B[38;5;124m\"\u001B[39m, \u001B[38;5;28;01mNone\u001B[39;00m) \u001B[38;5;241m==\u001B[39m \u001B[38;5;28mbool\u001B[39m:\n",
      "File \u001B[1;32m~\\AppData\\Local\\Programs\\Python\\Python312\\Lib\\site-packages\\pandas\\core\\indexes\\base.py:6199\u001B[0m, in \u001B[0;36mIndex._get_indexer_strict\u001B[1;34m(self, key, axis_name)\u001B[0m\n\u001B[0;32m   6196\u001B[0m \u001B[38;5;28;01melse\u001B[39;00m:\n\u001B[0;32m   6197\u001B[0m     keyarr, indexer, new_indexer \u001B[38;5;241m=\u001B[39m \u001B[38;5;28mself\u001B[39m\u001B[38;5;241m.\u001B[39m_reindex_non_unique(keyarr)\n\u001B[1;32m-> 6199\u001B[0m \u001B[38;5;28;43mself\u001B[39;49m\u001B[38;5;241;43m.\u001B[39;49m\u001B[43m_raise_if_missing\u001B[49m\u001B[43m(\u001B[49m\u001B[43mkeyarr\u001B[49m\u001B[43m,\u001B[49m\u001B[43m \u001B[49m\u001B[43mindexer\u001B[49m\u001B[43m,\u001B[49m\u001B[43m \u001B[49m\u001B[43maxis_name\u001B[49m\u001B[43m)\u001B[49m\n\u001B[0;32m   6201\u001B[0m keyarr \u001B[38;5;241m=\u001B[39m \u001B[38;5;28mself\u001B[39m\u001B[38;5;241m.\u001B[39mtake(indexer)\n\u001B[0;32m   6202\u001B[0m \u001B[38;5;28;01mif\u001B[39;00m \u001B[38;5;28misinstance\u001B[39m(key, Index):\n\u001B[0;32m   6203\u001B[0m     \u001B[38;5;66;03m# GH 42790 - Preserve name from an Index\u001B[39;00m\n",
      "File \u001B[1;32m~\\AppData\\Local\\Programs\\Python\\Python312\\Lib\\site-packages\\pandas\\core\\indexes\\base.py:6251\u001B[0m, in \u001B[0;36mIndex._raise_if_missing\u001B[1;34m(self, key, indexer, axis_name)\u001B[0m\n\u001B[0;32m   6248\u001B[0m     \u001B[38;5;28;01mraise\u001B[39;00m \u001B[38;5;167;01mKeyError\u001B[39;00m(\u001B[38;5;124mf\u001B[39m\u001B[38;5;124m\"\u001B[39m\u001B[38;5;124mNone of [\u001B[39m\u001B[38;5;132;01m{\u001B[39;00mkey\u001B[38;5;132;01m}\u001B[39;00m\u001B[38;5;124m] are in the [\u001B[39m\u001B[38;5;132;01m{\u001B[39;00maxis_name\u001B[38;5;132;01m}\u001B[39;00m\u001B[38;5;124m]\u001B[39m\u001B[38;5;124m\"\u001B[39m)\n\u001B[0;32m   6250\u001B[0m not_found \u001B[38;5;241m=\u001B[39m \u001B[38;5;28mlist\u001B[39m(ensure_index(key)[missing_mask\u001B[38;5;241m.\u001B[39mnonzero()[\u001B[38;5;241m0\u001B[39m]]\u001B[38;5;241m.\u001B[39munique())\n\u001B[1;32m-> 6251\u001B[0m \u001B[38;5;28;01mraise\u001B[39;00m \u001B[38;5;167;01mKeyError\u001B[39;00m(\u001B[38;5;124mf\u001B[39m\u001B[38;5;124m\"\u001B[39m\u001B[38;5;132;01m{\u001B[39;00mnot_found\u001B[38;5;132;01m}\u001B[39;00m\u001B[38;5;124m not in index\u001B[39m\u001B[38;5;124m\"\u001B[39m)\n",
      "\u001B[1;31mKeyError\u001B[0m: \"['operateur', 'libelle_grand_secteur'] not in index\""
     ]
    }
   ],
   "source": [
    "df_g2 = df_g[[\"operateur\",\"libelle_grand_secteur\",\"conso\",\"pdl\"]]\n",
    "df_g2"
   ],
   "metadata": {
    "collapsed": false,
    "ExecuteTime": {
     "end_time": "2024-02-28T03:45:43.144714Z",
     "start_time": "2024-02-28T03:45:42.914064Z"
    }
   },
   "id": "8f1d72bfcdd84b94",
   "execution_count": 13
  },
  {
   "cell_type": "code",
   "outputs": [
    {
     "data": {
      "text/plain": "(19, 8)"
     },
     "execution_count": 18,
     "metadata": {},
     "output_type": "execute_result"
    }
   ],
   "source": [
    "df_g.shape"
   ],
   "metadata": {
    "collapsed": false,
    "ExecuteTime": {
     "end_time": "2024-02-28T03:53:28.913277Z",
     "start_time": "2024-02-28T03:53:28.904300Z"
    }
   },
   "id": "9656ea5366e702d9",
   "execution_count": 18
  },
  {
   "cell_type": "code",
   "outputs": [
    {
     "data": {
      "text/plain": "                                                                    operateur  \\\nlibelle_region                                                                  \nAuvergne-Rhône-Alpes        Régie du syndicat intercommunal d'électricité ...   \nBourgogne-Franche-Comté     Régie municipale d'électricité de Salins les B...   \nBretagne                    RTERTERTEEdF-SEIEnedisEnedisEnedisEnedisEnedis...   \nCentre-Val de Loire         RTESICAE ELYSICAPSICAPSICAPSynelvaSynelvaSynel...   \nCorse                       EdF-SEIEdF-SEIEdF-SEIEdF-SEIEdF-SEIEdF-SEIEdF-...   \nGrand Est                   Régie intercommunale d'électricité de Niederbr...   \nGuadeloupe                  EdF-SEIEdF-SEIEdF-SEIEdF-SEIEdF-SEIEdF-SEIEdF-...   \nGuyane                      EdF-SEIEdF-SEIEdF-SEIEdF-SEIEdF-SEIEdF-SEIEdF-...   \nHauts-de-France             Régie municipale d'électricité de LoosRégie mu...   \nLa Réunion                  EdF-SEIEdF-SEIEdF-SEIEdF-SEIEdF-SEIEdF-SEIEdF-...   \nMartinique                  EdF-SEIEdF-SEIEdF-SEIEdF-SEIEdF-SEIEdF-SEIEdF-...   \nMayotte                     Electricité de MayotteElectricité de MayotteEl...   \nNon affecté à une région     EnedisEnedisEnedisEnedisEnedisEnedisEnedisEnedis   \nNormandie                   RTERTERégie d'électricité d'ElbeufRégie d'élec...   \nNouvelle-Aquitaine          Régie Municipale Bazas-EnergiesRégie municipal...   \nOccitanie                   Régie de Saint Paul Cap de JouxRégie de Saint ...   \nPays de la Loire            RTERTESRDEnedisEnedisEnedisEnedisEnedisEnedisE...   \nProvence-Alpes-Côte d'Azur  RTERTERTERTERTERTERTEEnedisEnedisEnedisEnedisE...   \nÎle-de-France               RTERTERTESICAE de la vallée du SausseronSICAE ...   \n\n                                               libelle_categorie_consommation  \\\nlibelle_region                                                                  \nAuvergne-Rhône-Alpes        EntreprisesEntreprisesEntreprisesEntreprisesPe...   \nBourgogne-Franche-Comté     EntreprisesEntreprisesEntreprisesEntreprisesEn...   \nBretagne                    EntreprisesEntreprisesEntreprisesEntreprisesEn...   \nCentre-Val de Loire         EntreprisesPetits professionelsEntreprisesEntr...   \nCorse                       EntreprisesEntreprisesEntreprisesEntreprisesEn...   \nGrand Est                   EntreprisesEntreprisesEntreprisesEntreprisesEn...   \nGuadeloupe                  EntreprisesEntreprisesEntreprisesEntreprisesEn...   \nGuyane                      EntreprisesEntreprisesEntreprisesEntreprisesEn...   \nHauts-de-France             EntreprisesEntreprisesEntreprisesEntreprisesEn...   \nLa Réunion                  EntreprisesEntreprisesEntreprisesEntreprisesEn...   \nMartinique                  EntreprisesEntreprisesEntreprisesEntreprisesEn...   \nMayotte                     Petits professionelsPetits professionelsEntrep...   \nNon affecté à une région    EntreprisesEntreprisesPetits professionelsRési...   \nNormandie                   EntreprisesEntreprisesEntreprisesEntreprisesEn...   \nNouvelle-Aquitaine          Petits professionelsEntreprisesPetits professi...   \nOccitanie                   Petits professionelsRésidentielEntreprisesEntr...   \nPays de la Loire            EntreprisesEntreprisesPetits professionelsEntr...   \nProvence-Alpes-Côte d'Azur  EntreprisesEntreprisesEntreprisesEntreprisesEn...   \nÎle-de-France               EntreprisesEntreprisesEntreprisesEntreprisesEn...   \n\n                                                        libelle_grand_secteur  \\\nlibelle_region                                                                  \nAuvergne-Rhône-Alpes        IndustrieTertiaireTertiaireTertiaireAgricultur...   \nBourgogne-Franche-Comté     IndustrieIndustrieIndustrieIndustrieIndustrieI...   \nBretagne                    TertiaireIndustrieIndustrieTertiaireAgricultur...   \nCentre-Val de Loire         TertiaireIndustrieIndustrieTertiaireIndustrieI...   \nCorse                       IndustrieIndustrieIndustrieTertiaireTertiaireT...   \nGrand Est                   TertiaireTertiaireTertiaireTertiaireTertiaireT...   \nGuadeloupe                  IndustrieIndustrieIndustrieTertiaireTertiaireT...   \nGuyane                      AgricultureIndustrieIndustrieIndustrieIndustri...   \nHauts-de-France             TertiaireTertiaireTertiaireTertiaireTertiaireT...   \nLa Réunion                  IndustrieIndustrieIndustrieIndustrieIndustrieI...   \nMartinique                  IndustrieIndustrieIndustrieIndustrieIndustrieT...   \nMayotte                     Secteur InconnuTertiaireTertiaireAgricultureIn...   \nNon affecté à une région    TertiaireSecteur InconnuTertiaireRésidentielIn...   \nNormandie                   IndustrieTertiaireTertiaireTertiaireTertiaireT...   \nNouvelle-Aquitaine          TertiaireSecteur InconnuTertiaireRésidentielIn...   \nOccitanie                   IndustrieRésidentielTertiaireTertiaireTertiair...   \nPays de la Loire            IndustrieIndustrieAgricultureAgricultureIndust...   \nProvence-Alpes-Côte d'Azur  IndustrieIndustrieTertiaireIndustrieTertiaireT...   \nÎle-de-France               IndustrieIndustrieIndustrieIndustrieIndustrieI...   \n\n                                                         libelle_secteur_naf2  \\\nlibelle_region                                                                  \nAuvergne-Rhône-Alpes        0HébergementEnseignementAutres services person...   \nBourgogne-Franche-Comté     Fabrication de produits métalliques, à l'excep...   \nBretagne                    Activités d'architecture et d'ingénierie ; act...   \nCentre-Val de Loire         Transports terrestres et transport par conduit...   \nCorse                       Industries alimentairesAutres industries manuf...   \nGrand Est                   Commerce de gros, à l'exception des automobile...   \nGuadeloupe                  Fabrication de boissonsFabrication d'autres pr...   \nGuyane                      0Cokéfaction et raffinageIndustrie chimiqueCon...   \nHauts-de-France             Transports terrestres et transport par conduit...   \nLa Réunion                  Fabrication d'autres produits minéraux non mét...   \nMartinique                  Imprimerie et reproduction d'enregistrementsMé...   \nMayotte                                                                000000   \nNon affecté à une région    Administration publique et défense ; sécurité ...   \nNormandie                   Industrie du papier et du cartonTélécommunicat...   \nNouvelle-Aquitaine          0000Fabrication de produits informatiques, éle...   \nOccitanie                   00HébergementAutres services personnels0Commer...   \nPays de la Loire            Industries alimentairesFabrication de produits...   \nProvence-Alpes-Côte d'Azur  Industrie chimiqueProduction et distribution d...   \nÎle-de-France               Industries alimentairesCokéfaction et raffinag...   \n\n                                   conso      pdl    indqual  \\\nlibelle_region                                                 \nAuvergne-Rhône-Alpes        6.045773e+07  5192789  351.48760   \nBourgogne-Franche-Comté     1.924332e+07  1774370  154.19220   \nBretagne                    2.171665e+07  2195872   96.08100   \nCentre-Val de Loire         1.701260e+07  1572015  248.00430   \nCorse                       2.021993e+06   260638    0.00000   \nGrand Est                   4.129572e+07  3285243  627.26680   \nGuadeloupe                  1.450463e+06   213697    0.00000   \nGuyane                      8.357066e+05    74237    0.00000   \nHauts-de-France             4.392764e+07  3196038  271.83670   \nLa Réunion                  2.819410e+06   408394    0.00000   \nMartinique                  1.369023e+06   199681    0.00000   \nMayotte                     3.426783e+05    49142    0.00000   \nNon affecté à une région    2.864476e+03      150    2.33141   \nNormandie                   2.483537e+07  2029477  119.03800   \nNouvelle-Aquitaine          3.860924e+07  4003982  259.32834   \nOccitanie                   3.482103e+07  4100601  282.58510   \nPays de la Loire            2.460348e+07  2327300  104.22600   \nProvence-Alpes-Côte d'Azur  3.625711e+07  3584677  154.46400   \nÎle-de-France               6.450522e+07  6762063  137.88660   \n\n                            nombre_mailles_secretisees  \nlibelle_region                                          \nAuvergne-Rhône-Alpes                                 0  \nBourgogne-Franche-Comté                              0  \nBretagne                                             0  \nCentre-Val de Loire                                  0  \nCorse                                                0  \nGrand Est                                            0  \nGuadeloupe                                           0  \nGuyane                                               0  \nHauts-de-France                                      0  \nLa Réunion                                           0  \nMartinique                                           0  \nMayotte                                              0  \nNon affecté à une région                             0  \nNormandie                                            0  \nNouvelle-Aquitaine                                   0  \nOccitanie                                            0  \nPays de la Loire                                     0  \nProvence-Alpes-Côte d'Azur                           0  \nÎle-de-France                                        0  ",
      "text/html": "<div>\n<style scoped>\n    .dataframe tbody tr th:only-of-type {\n        vertical-align: middle;\n    }\n\n    .dataframe tbody tr th {\n        vertical-align: top;\n    }\n\n    .dataframe thead th {\n        text-align: right;\n    }\n</style>\n<table border=\"1\" class=\"dataframe\">\n  <thead>\n    <tr style=\"text-align: right;\">\n      <th></th>\n      <th>operateur</th>\n      <th>libelle_categorie_consommation</th>\n      <th>libelle_grand_secteur</th>\n      <th>libelle_secteur_naf2</th>\n      <th>conso</th>\n      <th>pdl</th>\n      <th>indqual</th>\n      <th>nombre_mailles_secretisees</th>\n    </tr>\n    <tr>\n      <th>libelle_region</th>\n      <th></th>\n      <th></th>\n      <th></th>\n      <th></th>\n      <th></th>\n      <th></th>\n      <th></th>\n      <th></th>\n    </tr>\n  </thead>\n  <tbody>\n    <tr>\n      <th>Auvergne-Rhône-Alpes</th>\n      <td>Régie du syndicat intercommunal d'électricité ...</td>\n      <td>EntreprisesEntreprisesEntreprisesEntreprisesPe...</td>\n      <td>IndustrieTertiaireTertiaireTertiaireAgricultur...</td>\n      <td>0HébergementEnseignementAutres services person...</td>\n      <td>6.045773e+07</td>\n      <td>5192789</td>\n      <td>351.48760</td>\n      <td>0</td>\n    </tr>\n    <tr>\n      <th>Bourgogne-Franche-Comté</th>\n      <td>Régie municipale d'électricité de Salins les B...</td>\n      <td>EntreprisesEntreprisesEntreprisesEntreprisesEn...</td>\n      <td>IndustrieIndustrieIndustrieIndustrieIndustrieI...</td>\n      <td>Fabrication de produits métalliques, à l'excep...</td>\n      <td>1.924332e+07</td>\n      <td>1774370</td>\n      <td>154.19220</td>\n      <td>0</td>\n    </tr>\n    <tr>\n      <th>Bretagne</th>\n      <td>RTERTERTEEdF-SEIEnedisEnedisEnedisEnedisEnedis...</td>\n      <td>EntreprisesEntreprisesEntreprisesEntreprisesEn...</td>\n      <td>TertiaireIndustrieIndustrieTertiaireAgricultur...</td>\n      <td>Activités d'architecture et d'ingénierie ; act...</td>\n      <td>2.171665e+07</td>\n      <td>2195872</td>\n      <td>96.08100</td>\n      <td>0</td>\n    </tr>\n    <tr>\n      <th>Centre-Val de Loire</th>\n      <td>RTESICAE ELYSICAPSICAPSICAPSynelvaSynelvaSynel...</td>\n      <td>EntreprisesPetits professionelsEntreprisesEntr...</td>\n      <td>TertiaireIndustrieIndustrieTertiaireIndustrieI...</td>\n      <td>Transports terrestres et transport par conduit...</td>\n      <td>1.701260e+07</td>\n      <td>1572015</td>\n      <td>248.00430</td>\n      <td>0</td>\n    </tr>\n    <tr>\n      <th>Corse</th>\n      <td>EdF-SEIEdF-SEIEdF-SEIEdF-SEIEdF-SEIEdF-SEIEdF-...</td>\n      <td>EntreprisesEntreprisesEntreprisesEntreprisesEn...</td>\n      <td>IndustrieIndustrieIndustrieTertiaireTertiaireT...</td>\n      <td>Industries alimentairesAutres industries manuf...</td>\n      <td>2.021993e+06</td>\n      <td>260638</td>\n      <td>0.00000</td>\n      <td>0</td>\n    </tr>\n    <tr>\n      <th>Grand Est</th>\n      <td>Régie intercommunale d'électricité de Niederbr...</td>\n      <td>EntreprisesEntreprisesEntreprisesEntreprisesEn...</td>\n      <td>TertiaireTertiaireTertiaireTertiaireTertiaireT...</td>\n      <td>Commerce de gros, à l'exception des automobile...</td>\n      <td>4.129572e+07</td>\n      <td>3285243</td>\n      <td>627.26680</td>\n      <td>0</td>\n    </tr>\n    <tr>\n      <th>Guadeloupe</th>\n      <td>EdF-SEIEdF-SEIEdF-SEIEdF-SEIEdF-SEIEdF-SEIEdF-...</td>\n      <td>EntreprisesEntreprisesEntreprisesEntreprisesEn...</td>\n      <td>IndustrieIndustrieIndustrieTertiaireTertiaireT...</td>\n      <td>Fabrication de boissonsFabrication d'autres pr...</td>\n      <td>1.450463e+06</td>\n      <td>213697</td>\n      <td>0.00000</td>\n      <td>0</td>\n    </tr>\n    <tr>\n      <th>Guyane</th>\n      <td>EdF-SEIEdF-SEIEdF-SEIEdF-SEIEdF-SEIEdF-SEIEdF-...</td>\n      <td>EntreprisesEntreprisesEntreprisesEntreprisesEn...</td>\n      <td>AgricultureIndustrieIndustrieIndustrieIndustri...</td>\n      <td>0Cokéfaction et raffinageIndustrie chimiqueCon...</td>\n      <td>8.357066e+05</td>\n      <td>74237</td>\n      <td>0.00000</td>\n      <td>0</td>\n    </tr>\n    <tr>\n      <th>Hauts-de-France</th>\n      <td>Régie municipale d'électricité de LoosRégie mu...</td>\n      <td>EntreprisesEntreprisesEntreprisesEntreprisesEn...</td>\n      <td>TertiaireTertiaireTertiaireTertiaireTertiaireT...</td>\n      <td>Transports terrestres et transport par conduit...</td>\n      <td>4.392764e+07</td>\n      <td>3196038</td>\n      <td>271.83670</td>\n      <td>0</td>\n    </tr>\n    <tr>\n      <th>La Réunion</th>\n      <td>EdF-SEIEdF-SEIEdF-SEIEdF-SEIEdF-SEIEdF-SEIEdF-...</td>\n      <td>EntreprisesEntreprisesEntreprisesEntreprisesEn...</td>\n      <td>IndustrieIndustrieIndustrieIndustrieIndustrieI...</td>\n      <td>Fabrication d'autres produits minéraux non mét...</td>\n      <td>2.819410e+06</td>\n      <td>408394</td>\n      <td>0.00000</td>\n      <td>0</td>\n    </tr>\n    <tr>\n      <th>Martinique</th>\n      <td>EdF-SEIEdF-SEIEdF-SEIEdF-SEIEdF-SEIEdF-SEIEdF-...</td>\n      <td>EntreprisesEntreprisesEntreprisesEntreprisesEn...</td>\n      <td>IndustrieIndustrieIndustrieIndustrieIndustrieT...</td>\n      <td>Imprimerie et reproduction d'enregistrementsMé...</td>\n      <td>1.369023e+06</td>\n      <td>199681</td>\n      <td>0.00000</td>\n      <td>0</td>\n    </tr>\n    <tr>\n      <th>Mayotte</th>\n      <td>Electricité de MayotteElectricité de MayotteEl...</td>\n      <td>Petits professionelsPetits professionelsEntrep...</td>\n      <td>Secteur InconnuTertiaireTertiaireAgricultureIn...</td>\n      <td>000000</td>\n      <td>3.426783e+05</td>\n      <td>49142</td>\n      <td>0.00000</td>\n      <td>0</td>\n    </tr>\n    <tr>\n      <th>Non affecté à une région</th>\n      <td>EnedisEnedisEnedisEnedisEnedisEnedisEnedisEnedis</td>\n      <td>EntreprisesEntreprisesPetits professionelsRési...</td>\n      <td>TertiaireSecteur InconnuTertiaireRésidentielIn...</td>\n      <td>Administration publique et défense ; sécurité ...</td>\n      <td>2.864476e+03</td>\n      <td>150</td>\n      <td>2.33141</td>\n      <td>0</td>\n    </tr>\n    <tr>\n      <th>Normandie</th>\n      <td>RTERTERégie d'électricité d'ElbeufRégie d'élec...</td>\n      <td>EntreprisesEntreprisesEntreprisesEntreprisesEn...</td>\n      <td>IndustrieTertiaireTertiaireTertiaireTertiaireT...</td>\n      <td>Industrie du papier et du cartonTélécommunicat...</td>\n      <td>2.483537e+07</td>\n      <td>2029477</td>\n      <td>119.03800</td>\n      <td>0</td>\n    </tr>\n    <tr>\n      <th>Nouvelle-Aquitaine</th>\n      <td>Régie Municipale Bazas-EnergiesRégie municipal...</td>\n      <td>Petits professionelsEntreprisesPetits professi...</td>\n      <td>TertiaireSecteur InconnuTertiaireRésidentielIn...</td>\n      <td>0000Fabrication de produits informatiques, éle...</td>\n      <td>3.860924e+07</td>\n      <td>4003982</td>\n      <td>259.32834</td>\n      <td>0</td>\n    </tr>\n    <tr>\n      <th>Occitanie</th>\n      <td>Régie de Saint Paul Cap de JouxRégie de Saint ...</td>\n      <td>Petits professionelsRésidentielEntreprisesEntr...</td>\n      <td>IndustrieRésidentielTertiaireTertiaireTertiair...</td>\n      <td>00HébergementAutres services personnels0Commer...</td>\n      <td>3.482103e+07</td>\n      <td>4100601</td>\n      <td>282.58510</td>\n      <td>0</td>\n    </tr>\n    <tr>\n      <th>Pays de la Loire</th>\n      <td>RTERTESRDEnedisEnedisEnedisEnedisEnedisEnedisE...</td>\n      <td>EntreprisesEntreprisesPetits professionelsEntr...</td>\n      <td>IndustrieIndustrieAgricultureAgricultureIndust...</td>\n      <td>Industries alimentairesFabrication de produits...</td>\n      <td>2.460348e+07</td>\n      <td>2327300</td>\n      <td>104.22600</td>\n      <td>0</td>\n    </tr>\n    <tr>\n      <th>Provence-Alpes-Côte d'Azur</th>\n      <td>RTERTERTERTERTERTERTEEnedisEnedisEnedisEnedisE...</td>\n      <td>EntreprisesEntreprisesEntreprisesEntreprisesEn...</td>\n      <td>IndustrieIndustrieTertiaireIndustrieTertiaireT...</td>\n      <td>Industrie chimiqueProduction et distribution d...</td>\n      <td>3.625711e+07</td>\n      <td>3584677</td>\n      <td>154.46400</td>\n      <td>0</td>\n    </tr>\n    <tr>\n      <th>Île-de-France</th>\n      <td>RTERTERTESICAE de la vallée du SausseronSICAE ...</td>\n      <td>EntreprisesEntreprisesEntreprisesEntreprisesEn...</td>\n      <td>IndustrieIndustrieIndustrieIndustrieIndustrieI...</td>\n      <td>Industries alimentairesCokéfaction et raffinag...</td>\n      <td>6.450522e+07</td>\n      <td>6762063</td>\n      <td>137.88660</td>\n      <td>0</td>\n    </tr>\n  </tbody>\n</table>\n</div>"
     },
     "execution_count": 19,
     "metadata": {},
     "output_type": "execute_result"
    }
   ],
   "source": [
    "df_g"
   ],
   "metadata": {
    "collapsed": false,
    "ExecuteTime": {
     "end_time": "2024-02-28T03:53:54.990549Z",
     "start_time": "2024-02-28T03:53:54.979578Z"
    }
   },
   "id": "2de11a6732c35721",
   "execution_count": 19
  },
  {
   "cell_type": "code",
   "outputs": [],
   "source": [],
   "metadata": {
    "collapsed": false
   },
   "id": "751128e6709c61db"
  },
  {
   "cell_type": "code",
   "outputs": [],
   "source": [],
   "metadata": {
    "collapsed": false
   },
   "id": "3e4a7f6a8e770fee"
  },
  {
   "cell_type": "code",
   "outputs": [],
   "source": [],
   "metadata": {
    "collapsed": false
   },
   "id": "b837e70f62f28d1e"
  },
  {
   "cell_type": "code",
   "outputs": [],
   "source": [
    "df.to_csv(\"data.csv\")"
   ],
   "metadata": {
    "collapsed": false,
    "ExecuteTime": {
     "end_time": "2024-02-26T15:54:33.015310600Z",
     "start_time": "2024-02-26T15:54:32.985390700Z"
    }
   },
   "id": "7c6d2749d7bbfaff",
   "execution_count": 237
  }
 ],
 "metadata": {
  "kernelspec": {
   "display_name": "Python 3",
   "language": "python",
   "name": "python3"
  },
  "language_info": {
   "codemirror_mode": {
    "name": "ipython",
    "version": 2
   },
   "file_extension": ".py",
   "mimetype": "text/x-python",
   "name": "python",
   "nbconvert_exporter": "python",
   "pygments_lexer": "ipython2",
   "version": "2.7.6"
  }
 },
 "nbformat": 4,
 "nbformat_minor": 5
}
